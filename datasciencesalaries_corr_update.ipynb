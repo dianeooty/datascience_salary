{
 "cells": [
  {
   "cell_type": "code",
   "execution_count": 1,
   "id": "a594b50b",
   "metadata": {
    "id": "a594b50b"
   },
   "outputs": [],
   "source": [
    "# Import libraries\n",
    "import pandas as pd\n",
    "import numpy as np\n",
    "pd.set_option('max_colwidth', 400)\n",
    "import requests\n",
    "import matplotlib.pyplot as plt\n",
    "import json\n",
    "import re\n",
    "import warnings\n",
    "warnings.filterwarnings('ignore')\n",
    "from sklearn.model_selection import train_test_split\n",
    "from sklearn.preprocessing import StandardScaler\n",
    "import scipy.stats as stats\n",
    "from scipy.stats import chi2_contingency\n",
    "from sklearn.metrics import r2_score\n",
    "import seaborn as sns"
   ]
  },
  {
   "cell_type": "code",
   "execution_count": 2,
   "id": "cdN1_yPe7FVR",
   "metadata": {
    "id": "cdN1_yPe7FVR"
   },
   "outputs": [],
   "source": [
    "# Read csv from raw github link and create dataframe\n",
    "url = 'https://raw.githubusercontent.com/dianeooty/datascience_salary/main/Resources/layoffs_cleaned.csv'\n",
    "layoffs_df = pd.read_csv(url)"
   ]
  },
  {
   "cell_type": "code",
   "execution_count": 3,
   "id": "HQvh_FQn487Z",
   "metadata": {
    "id": "HQvh_FQn487Z"
   },
   "outputs": [],
   "source": [
    "# Read csv from raw github link and create dataframe\n",
    "url = 'https://raw.githubusercontent.com/dianeooty/datascience_salary/main/Resources/salaries_cleaned.csv'\n",
    "salaries_df = pd.read_csv(url)"
   ]
  },
  {
   "cell_type": "code",
   "execution_count": 4,
   "id": "5b67625c",
   "metadata": {
    "colab": {
     "base_uri": "https://localhost:8080/"
    },
    "id": "5b67625c",
    "outputId": "faed99cd-2796-4cd8-be8f-baacb0918865"
   },
   "outputs": [
    {
     "name": "stdout",
     "output_type": "stream",
     "text": [
      "<class 'pandas.core.frame.DataFrame'>\n",
      "RangeIndex: 62642 entries, 0 to 62641\n",
      "Data columns (total 18 columns):\n",
      " #   Column                   Non-Null Count  Dtype  \n",
      "---  ------                   --------------  -----  \n",
      " 0   Unnamed: 0               62642 non-null  int64  \n",
      " 1   timestamp                62642 non-null  object \n",
      " 2   date                     62642 non-null  object \n",
      " 3   company                  62637 non-null  object \n",
      " 4   level                    62523 non-null  object \n",
      " 5   title                    62642 non-null  object \n",
      " 6   totalyearlycompensation  62642 non-null  int64  \n",
      " 7   location                 62642 non-null  object \n",
      " 8   latitude                 62642 non-null  float64\n",
      " 9   longitude                62642 non-null  float64\n",
      " 10  yearsofexperience        62642 non-null  float64\n",
      " 11  yearsatcompany           62642 non-null  float64\n",
      " 12  basesalary               62642 non-null  int64  \n",
      " 13  stockgrantvalue          62642 non-null  int64  \n",
      " 14  bonus                    62642 non-null  int64  \n",
      " 15  gender                   62642 non-null  object \n",
      " 16  Race                     62642 non-null  object \n",
      " 17  Education                62642 non-null  object \n",
      "dtypes: float64(4), int64(5), object(9)\n",
      "memory usage: 8.6+ MB\n"
     ]
    }
   ],
   "source": [
    "# View dataframe info\n",
    "salaries_df.info()"
   ]
  },
  {
   "cell_type": "code",
   "execution_count": 5,
   "id": "MPrx84-Ld9x8",
   "metadata": {
    "colab": {
     "base_uri": "https://localhost:8080/"
    },
    "id": "MPrx84-Ld9x8",
    "outputId": "8d92729e-9809-4572-e09d-2955e5731139"
   },
   "outputs": [
    {
     "name": "stdout",
     "output_type": "stream",
     "text": [
      "<class 'pandas.core.frame.DataFrame'>\n",
      "RangeIndex: 2545 entries, 0 to 2544\n",
      "Data columns (total 9 columns):\n",
      " #   Column               Non-Null Count  Dtype  \n",
      "---  ------               --------------  -----  \n",
      " 0   Unnamed: 0           2545 non-null   int64  \n",
      " 1   company              2545 non-null   object \n",
      " 2   location             2545 non-null   object \n",
      " 3   industry             2543 non-null   object \n",
      " 4   total_laid_off       2545 non-null   int64  \n",
      " 5   percentage_laid_off  1694 non-null   float64\n",
      " 6   date                 2543 non-null   object \n",
      " 7   stage                2539 non-null   object \n",
      " 8   country              2545 non-null   object \n",
      "dtypes: float64(1), int64(2), object(6)\n",
      "memory usage: 179.1+ KB\n"
     ]
    }
   ],
   "source": [
    "# Check dataframe's info\n",
    "layoffs_df.info()"
   ]
  },
  {
   "cell_type": "code",
   "execution_count": 6,
   "id": "2367d849",
   "metadata": {},
   "outputs": [
    {
     "data": {
      "text/html": [
       "<div>\n",
       "<style scoped>\n",
       "    .dataframe tbody tr th:only-of-type {\n",
       "        vertical-align: middle;\n",
       "    }\n",
       "\n",
       "    .dataframe tbody tr th {\n",
       "        vertical-align: top;\n",
       "    }\n",
       "\n",
       "    .dataframe thead th {\n",
       "        text-align: right;\n",
       "    }\n",
       "</style>\n",
       "<table border=\"1\" class=\"dataframe\">\n",
       "  <thead>\n",
       "    <tr style=\"text-align: right;\">\n",
       "      <th></th>\n",
       "      <th>timestamp</th>\n",
       "      <th>date</th>\n",
       "      <th>company</th>\n",
       "      <th>level</th>\n",
       "      <th>title</th>\n",
       "      <th>totalyearlycompensation</th>\n",
       "      <th>location</th>\n",
       "      <th>latitude</th>\n",
       "      <th>longitude</th>\n",
       "      <th>yearsofexperience</th>\n",
       "      <th>yearsatcompany</th>\n",
       "      <th>basesalary</th>\n",
       "      <th>stockgrantvalue</th>\n",
       "      <th>bonus</th>\n",
       "      <th>gender</th>\n",
       "      <th>Race</th>\n",
       "      <th>Education</th>\n",
       "    </tr>\n",
       "  </thead>\n",
       "  <tbody>\n",
       "    <tr>\n",
       "      <th>0</th>\n",
       "      <td>2017-06-07 11:33:00</td>\n",
       "      <td>2017-06-07 00:00:00</td>\n",
       "      <td>Oracle</td>\n",
       "      <td>L3</td>\n",
       "      <td>Product Manager</td>\n",
       "      <td>127000</td>\n",
       "      <td>Redwood City, CA</td>\n",
       "      <td>37.486324</td>\n",
       "      <td>-122.232523</td>\n",
       "      <td>1.5</td>\n",
       "      <td>1.5</td>\n",
       "      <td>107000</td>\n",
       "      <td>20000</td>\n",
       "      <td>10000</td>\n",
       "      <td>Unknown</td>\n",
       "      <td>Unknown</td>\n",
       "      <td>Unknown</td>\n",
       "    </tr>\n",
       "    <tr>\n",
       "      <th>1</th>\n",
       "      <td>2017-06-10 17:11:00</td>\n",
       "      <td>2017-06-10 00:00:00</td>\n",
       "      <td>eBay</td>\n",
       "      <td>SE 2</td>\n",
       "      <td>Software Engineer</td>\n",
       "      <td>100000</td>\n",
       "      <td>San Francisco, CA</td>\n",
       "      <td>37.779026</td>\n",
       "      <td>-122.419906</td>\n",
       "      <td>5.0</td>\n",
       "      <td>3.0</td>\n",
       "      <td>0</td>\n",
       "      <td>0</td>\n",
       "      <td>0</td>\n",
       "      <td>Unknown</td>\n",
       "      <td>Unknown</td>\n",
       "      <td>Unknown</td>\n",
       "    </tr>\n",
       "    <tr>\n",
       "      <th>2</th>\n",
       "      <td>2017-06-11 14:53:00</td>\n",
       "      <td>2017-06-11 00:00:00</td>\n",
       "      <td>Amazon</td>\n",
       "      <td>L7</td>\n",
       "      <td>Product Manager</td>\n",
       "      <td>310000</td>\n",
       "      <td>Seattle, WA</td>\n",
       "      <td>47.603832</td>\n",
       "      <td>-122.330062</td>\n",
       "      <td>8.0</td>\n",
       "      <td>0.0</td>\n",
       "      <td>155000</td>\n",
       "      <td>0</td>\n",
       "      <td>0</td>\n",
       "      <td>Unknown</td>\n",
       "      <td>Unknown</td>\n",
       "      <td>Unknown</td>\n",
       "    </tr>\n",
       "    <tr>\n",
       "      <th>3</th>\n",
       "      <td>2017-06-17 00:23:00</td>\n",
       "      <td>2017-06-17 00:00:00</td>\n",
       "      <td>Apple</td>\n",
       "      <td>M1</td>\n",
       "      <td>Software Engineering Manager</td>\n",
       "      <td>372000</td>\n",
       "      <td>Sunnyvale, CA</td>\n",
       "      <td>37.368830</td>\n",
       "      <td>-122.036349</td>\n",
       "      <td>7.0</td>\n",
       "      <td>5.0</td>\n",
       "      <td>157000</td>\n",
       "      <td>180000</td>\n",
       "      <td>35000</td>\n",
       "      <td>Unknown</td>\n",
       "      <td>Unknown</td>\n",
       "      <td>Unknown</td>\n",
       "    </tr>\n",
       "    <tr>\n",
       "      <th>4</th>\n",
       "      <td>2017-06-20 10:58:00</td>\n",
       "      <td>2017-06-20 00:00:00</td>\n",
       "      <td>Microsoft</td>\n",
       "      <td>60</td>\n",
       "      <td>Software Engineer</td>\n",
       "      <td>157000</td>\n",
       "      <td>Mountain View, CA</td>\n",
       "      <td>37.389389</td>\n",
       "      <td>-122.083210</td>\n",
       "      <td>5.0</td>\n",
       "      <td>3.0</td>\n",
       "      <td>0</td>\n",
       "      <td>0</td>\n",
       "      <td>0</td>\n",
       "      <td>Unknown</td>\n",
       "      <td>Unknown</td>\n",
       "      <td>Unknown</td>\n",
       "    </tr>\n",
       "  </tbody>\n",
       "</table>\n",
       "</div>"
      ],
      "text/plain": [
       "             timestamp                 date    company level  \\\n",
       "0  2017-06-07 11:33:00  2017-06-07 00:00:00     Oracle    L3   \n",
       "1  2017-06-10 17:11:00  2017-06-10 00:00:00       eBay  SE 2   \n",
       "2  2017-06-11 14:53:00  2017-06-11 00:00:00     Amazon    L7   \n",
       "3  2017-06-17 00:23:00  2017-06-17 00:00:00      Apple    M1   \n",
       "4  2017-06-20 10:58:00  2017-06-20 00:00:00  Microsoft    60   \n",
       "\n",
       "                          title  totalyearlycompensation           location  \\\n",
       "0               Product Manager                   127000   Redwood City, CA   \n",
       "1             Software Engineer                   100000  San Francisco, CA   \n",
       "2               Product Manager                   310000        Seattle, WA   \n",
       "3  Software Engineering Manager                   372000      Sunnyvale, CA   \n",
       "4             Software Engineer                   157000  Mountain View, CA   \n",
       "\n",
       "    latitude   longitude  yearsofexperience  yearsatcompany  basesalary  \\\n",
       "0  37.486324 -122.232523                1.5             1.5      107000   \n",
       "1  37.779026 -122.419906                5.0             3.0           0   \n",
       "2  47.603832 -122.330062                8.0             0.0      155000   \n",
       "3  37.368830 -122.036349                7.0             5.0      157000   \n",
       "4  37.389389 -122.083210                5.0             3.0           0   \n",
       "\n",
       "   stockgrantvalue  bonus   gender     Race Education  \n",
       "0            20000  10000  Unknown  Unknown   Unknown  \n",
       "1                0      0  Unknown  Unknown   Unknown  \n",
       "2                0      0  Unknown  Unknown   Unknown  \n",
       "3           180000  35000  Unknown  Unknown   Unknown  \n",
       "4                0      0  Unknown  Unknown   Unknown  "
      ]
     },
     "execution_count": 6,
     "metadata": {},
     "output_type": "execute_result"
    }
   ],
   "source": [
    "salaries_df = salaries_df.drop(columns='Unnamed: 0')\n",
    "salaries_df.head()"
   ]
  },
  {
   "cell_type": "code",
   "execution_count": 7,
   "id": "8555f709",
   "metadata": {},
   "outputs": [
    {
     "data": {
      "text/html": [
       "<div>\n",
       "<style scoped>\n",
       "    .dataframe tbody tr th:only-of-type {\n",
       "        vertical-align: middle;\n",
       "    }\n",
       "\n",
       "    .dataframe tbody tr th {\n",
       "        vertical-align: top;\n",
       "    }\n",
       "\n",
       "    .dataframe thead th {\n",
       "        text-align: right;\n",
       "    }\n",
       "</style>\n",
       "<table border=\"1\" class=\"dataframe\">\n",
       "  <thead>\n",
       "    <tr style=\"text-align: right;\">\n",
       "      <th></th>\n",
       "      <th>company</th>\n",
       "      <th>location</th>\n",
       "      <th>industry</th>\n",
       "      <th>total_laid_off</th>\n",
       "      <th>percentage_laid_off</th>\n",
       "      <th>date</th>\n",
       "      <th>stage</th>\n",
       "      <th>country</th>\n",
       "    </tr>\n",
       "  </thead>\n",
       "  <tbody>\n",
       "    <tr>\n",
       "      <th>0</th>\n",
       "      <td>N26</td>\n",
       "      <td>Berlin</td>\n",
       "      <td>Finance</td>\n",
       "      <td>71</td>\n",
       "      <td>4.0</td>\n",
       "      <td>2023-04-28</td>\n",
       "      <td>Series E</td>\n",
       "      <td>United States</td>\n",
       "    </tr>\n",
       "    <tr>\n",
       "      <th>1</th>\n",
       "      <td>Providoor</td>\n",
       "      <td>Melbourne</td>\n",
       "      <td>Food</td>\n",
       "      <td>0</td>\n",
       "      <td>100.0</td>\n",
       "      <td>2023-04-28</td>\n",
       "      <td>Unknown</td>\n",
       "      <td>Australia</td>\n",
       "    </tr>\n",
       "    <tr>\n",
       "      <th>2</th>\n",
       "      <td>Dropbox</td>\n",
       "      <td>SF Bay Area</td>\n",
       "      <td>Other</td>\n",
       "      <td>500</td>\n",
       "      <td>16.0</td>\n",
       "      <td>2023-04-27</td>\n",
       "      <td>Post-IPO</td>\n",
       "      <td>United States</td>\n",
       "    </tr>\n",
       "    <tr>\n",
       "      <th>3</th>\n",
       "      <td>Vroom</td>\n",
       "      <td>New York City</td>\n",
       "      <td>Transportation</td>\n",
       "      <td>120</td>\n",
       "      <td>11.0</td>\n",
       "      <td>2023-04-27</td>\n",
       "      <td>Post-IPO</td>\n",
       "      <td>United States</td>\n",
       "    </tr>\n",
       "    <tr>\n",
       "      <th>4</th>\n",
       "      <td>Greenhouse</td>\n",
       "      <td>New York City</td>\n",
       "      <td>Recruiting</td>\n",
       "      <td>100</td>\n",
       "      <td>12.0</td>\n",
       "      <td>2023-04-27</td>\n",
       "      <td>Private Equity</td>\n",
       "      <td>United States</td>\n",
       "    </tr>\n",
       "  </tbody>\n",
       "</table>\n",
       "</div>"
      ],
      "text/plain": [
       "      company       location        industry  total_laid_off  \\\n",
       "0         N26         Berlin         Finance              71   \n",
       "1   Providoor      Melbourne            Food               0   \n",
       "2     Dropbox    SF Bay Area           Other             500   \n",
       "3       Vroom  New York City  Transportation             120   \n",
       "4  Greenhouse  New York City      Recruiting             100   \n",
       "\n",
       "   percentage_laid_off        date           stage        country  \n",
       "0                  4.0  2023-04-28        Series E  United States  \n",
       "1                100.0  2023-04-28         Unknown      Australia  \n",
       "2                 16.0  2023-04-27        Post-IPO  United States  \n",
       "3                 11.0  2023-04-27        Post-IPO  United States  \n",
       "4                 12.0  2023-04-27  Private Equity  United States  "
      ]
     },
     "execution_count": 7,
     "metadata": {},
     "output_type": "execute_result"
    }
   ],
   "source": [
    "# Display dataframe\n",
    "layoffs_df = layoffs_df.drop(columns='Unnamed: 0')\n",
    "layoffs_df.head()"
   ]
  },
  {
   "cell_type": "markdown",
   "id": "24fccc6d",
   "metadata": {},
   "source": [
    "# Correlation"
   ]
  },
  {
   "cell_type": "code",
   "execution_count": 8,
   "id": "5eD1U8h7OFen",
   "metadata": {
    "colab": {
     "base_uri": "https://localhost:8080/",
     "height": 300
    },
    "id": "5eD1U8h7OFen",
    "outputId": "96889eee-69b2-4d3c-f37b-b3993c844b4a"
   },
   "outputs": [
    {
     "data": {
      "text/html": [
       "<div>\n",
       "<style scoped>\n",
       "    .dataframe tbody tr th:only-of-type {\n",
       "        vertical-align: middle;\n",
       "    }\n",
       "\n",
       "    .dataframe tbody tr th {\n",
       "        vertical-align: top;\n",
       "    }\n",
       "\n",
       "    .dataframe thead th {\n",
       "        text-align: right;\n",
       "    }\n",
       "</style>\n",
       "<table border=\"1\" class=\"dataframe\">\n",
       "  <thead>\n",
       "    <tr style=\"text-align: right;\">\n",
       "      <th></th>\n",
       "      <th>totalyearlycompensation</th>\n",
       "      <th>latitude</th>\n",
       "      <th>longitude</th>\n",
       "      <th>yearsofexperience</th>\n",
       "      <th>yearsatcompany</th>\n",
       "      <th>basesalary</th>\n",
       "      <th>stockgrantvalue</th>\n",
       "      <th>bonus</th>\n",
       "    </tr>\n",
       "  </thead>\n",
       "  <tbody>\n",
       "    <tr>\n",
       "      <th>totalyearlycompensation</th>\n",
       "      <td>1.000000</td>\n",
       "      <td>0.142649</td>\n",
       "      <td>-0.355284</td>\n",
       "      <td>0.422879</td>\n",
       "      <td>0.165802</td>\n",
       "      <td>0.672865</td>\n",
       "      <td>0.770756</td>\n",
       "      <td>0.489454</td>\n",
       "    </tr>\n",
       "    <tr>\n",
       "      <th>latitude</th>\n",
       "      <td>0.142649</td>\n",
       "      <td>1.000000</td>\n",
       "      <td>-0.507836</td>\n",
       "      <td>0.009779</td>\n",
       "      <td>0.022755</td>\n",
       "      <td>0.168058</td>\n",
       "      <td>0.079645</td>\n",
       "      <td>0.061683</td>\n",
       "    </tr>\n",
       "    <tr>\n",
       "      <th>longitude</th>\n",
       "      <td>-0.355284</td>\n",
       "      <td>-0.507836</td>\n",
       "      <td>1.000000</td>\n",
       "      <td>-0.024004</td>\n",
       "      <td>-0.030683</td>\n",
       "      <td>-0.422624</td>\n",
       "      <td>-0.203133</td>\n",
       "      <td>-0.129335</td>\n",
       "    </tr>\n",
       "    <tr>\n",
       "      <th>yearsofexperience</th>\n",
       "      <td>0.422879</td>\n",
       "      <td>0.009779</td>\n",
       "      <td>-0.024004</td>\n",
       "      <td>1.000000</td>\n",
       "      <td>0.522611</td>\n",
       "      <td>0.374437</td>\n",
       "      <td>0.289631</td>\n",
       "      <td>0.261051</td>\n",
       "    </tr>\n",
       "    <tr>\n",
       "      <th>yearsatcompany</th>\n",
       "      <td>0.165802</td>\n",
       "      <td>0.022755</td>\n",
       "      <td>-0.030683</td>\n",
       "      <td>0.522611</td>\n",
       "      <td>1.000000</td>\n",
       "      <td>0.145596</td>\n",
       "      <td>0.089492</td>\n",
       "      <td>0.108122</td>\n",
       "    </tr>\n",
       "    <tr>\n",
       "      <th>basesalary</th>\n",
       "      <td>0.672865</td>\n",
       "      <td>0.168058</td>\n",
       "      <td>-0.422624</td>\n",
       "      <td>0.374437</td>\n",
       "      <td>0.145596</td>\n",
       "      <td>1.000000</td>\n",
       "      <td>0.468266</td>\n",
       "      <td>0.394352</td>\n",
       "    </tr>\n",
       "    <tr>\n",
       "      <th>stockgrantvalue</th>\n",
       "      <td>0.770756</td>\n",
       "      <td>0.079645</td>\n",
       "      <td>-0.203133</td>\n",
       "      <td>0.289631</td>\n",
       "      <td>0.089492</td>\n",
       "      <td>0.468266</td>\n",
       "      <td>1.000000</td>\n",
       "      <td>0.248151</td>\n",
       "    </tr>\n",
       "    <tr>\n",
       "      <th>bonus</th>\n",
       "      <td>0.489454</td>\n",
       "      <td>0.061683</td>\n",
       "      <td>-0.129335</td>\n",
       "      <td>0.261051</td>\n",
       "      <td>0.108122</td>\n",
       "      <td>0.394352</td>\n",
       "      <td>0.248151</td>\n",
       "      <td>1.000000</td>\n",
       "    </tr>\n",
       "  </tbody>\n",
       "</table>\n",
       "</div>"
      ],
      "text/plain": [
       "                         totalyearlycompensation  latitude  longitude  \\\n",
       "totalyearlycompensation                 1.000000  0.142649  -0.355284   \n",
       "latitude                                0.142649  1.000000  -0.507836   \n",
       "longitude                              -0.355284 -0.507836   1.000000   \n",
       "yearsofexperience                       0.422879  0.009779  -0.024004   \n",
       "yearsatcompany                          0.165802  0.022755  -0.030683   \n",
       "basesalary                              0.672865  0.168058  -0.422624   \n",
       "stockgrantvalue                         0.770756  0.079645  -0.203133   \n",
       "bonus                                   0.489454  0.061683  -0.129335   \n",
       "\n",
       "                         yearsofexperience  yearsatcompany  basesalary  \\\n",
       "totalyearlycompensation           0.422879        0.165802    0.672865   \n",
       "latitude                          0.009779        0.022755    0.168058   \n",
       "longitude                        -0.024004       -0.030683   -0.422624   \n",
       "yearsofexperience                 1.000000        0.522611    0.374437   \n",
       "yearsatcompany                    0.522611        1.000000    0.145596   \n",
       "basesalary                        0.374437        0.145596    1.000000   \n",
       "stockgrantvalue                   0.289631        0.089492    0.468266   \n",
       "bonus                             0.261051        0.108122    0.394352   \n",
       "\n",
       "                         stockgrantvalue     bonus  \n",
       "totalyearlycompensation         0.770756  0.489454  \n",
       "latitude                        0.079645  0.061683  \n",
       "longitude                      -0.203133 -0.129335  \n",
       "yearsofexperience               0.289631  0.261051  \n",
       "yearsatcompany                  0.089492  0.108122  \n",
       "basesalary                      0.468266  0.394352  \n",
       "stockgrantvalue                 1.000000  0.248151  \n",
       "bonus                           0.248151  1.000000  "
      ]
     },
     "execution_count": 8,
     "metadata": {},
     "output_type": "execute_result"
    }
   ],
   "source": [
    "salaries_corr = salaries_df.corr()\n",
    "salaries_corr "
   ]
  },
  {
   "cell_type": "code",
   "execution_count": 9,
   "id": "342ccceb",
   "metadata": {},
   "outputs": [],
   "source": [
    "#drop the unrelated columns\n",
    "salaries_corr = salaries_corr.drop(columns=['latitude', \"longitude\", \"basesalary\", 'stockgrantvalue', 'bonus'])"
   ]
  },
  {
   "cell_type": "code",
   "execution_count": 10,
   "id": "69220430",
   "metadata": {},
   "outputs": [],
   "source": [
    "#drop the unrelated index\n",
    "salaries_corr = salaries_corr.drop(index=['latitude', \"longitude\", \"basesalary\", 'stockgrantvalue', 'bonus'])"
   ]
  },
  {
   "cell_type": "code",
   "execution_count": 11,
   "id": "4ddcfa1a",
   "metadata": {},
   "outputs": [
    {
     "data": {
      "text/plain": [
       "<AxesSubplot:>"
      ]
     },
     "execution_count": 11,
     "metadata": {},
     "output_type": "execute_result"
    },
    {
     "data": {
      "image/png": "[encoded data removed]",
      "text/plain": [
       "<Figure size 640x480 with 2 Axes>"
      ]
     },
     "metadata": {},
     "output_type": "display_data"
    }
   ],
   "source": [
    "#heatmap for correlation\n",
    "sns.heatmap(salaries_corr, cmap = \"BrBG\",annot=True)"
   ]
  },
  {
   "cell_type": "code",
   "execution_count": 12,
   "id": "a7446974",
   "metadata": {},
   "outputs": [
    {
     "data": {
      "image/png": "[encoded data removed]",
      "text/plain": [
       "<Figure size 1200x800 with 1 Axes>"
      ]
     },
     "metadata": {},
     "output_type": "display_data"
    }
   ],
   "source": [
    "# plot the year compensation vs experiences\n",
    "plt.figure(figsize=(12,8))\n",
    "sns.regplot(x=salaries_df[\"yearsofexperience\"], y=salaries_df[\"totalyearlycompensation\"], line_kws = {\"color\": \"red\"})\n",
    "plt.title(\"Experience vs Total Compensation\", size=17)\n",
    "plt.xlabel(\"Experience\", size=12)\n",
    "plt.ylabel(\"Total Compensation\", size=12)\n",
    "plt.text(60, 5000000, \"annotation\")\n",
    "plt.show()"
   ]
  },
  {
   "cell_type": "markdown",
   "id": "e6e5d403",
   "metadata": {},
   "source": [
    "# Gender"
   ]
  },
  {
   "cell_type": "code",
   "execution_count": 13,
   "id": "IcV5Apjfq9jb",
   "metadata": {
    "colab": {
     "base_uri": "https://localhost:8080/",
     "height": 294
    },
    "id": "IcV5Apjfq9jb",
    "outputId": "bc89e383-16f1-40ad-f3df-ed215314b4ef"
   },
   "outputs": [
    {
     "data": {
      "text/plain": [
       "Male       35702\n",
       "Unknown    19541\n",
       "Female      6999\n",
       "Other        400\n",
       "Name: gender, dtype: int64"
      ]
     },
     "execution_count": 13,
     "metadata": {},
     "output_type": "execute_result"
    }
   ],
   "source": [
    "# Gender value count\n",
    "gender = salaries_df[\"gender\"].value_counts()\n",
    "gender"
   ]
  },
  {
   "cell_type": "code",
   "execution_count": 14,
   "id": "e175c8f9",
   "metadata": {},
   "outputs": [
    {
     "data": {
      "text/plain": [
       "totalyearlycompensation    195119.588513\n",
       "latitude                       39.432706\n",
       "longitude                     -96.777695\n",
       "yearsofexperience               6.134126\n",
       "yearsatcompany                  2.365238\n",
       "basesalary                 133823.203315\n",
       "stockgrantvalue             39422.272610\n",
       "bonus                       17200.592942\n",
       "dtype: float64"
      ]
     },
     "execution_count": 14,
     "metadata": {},
     "output_type": "execute_result"
    }
   ],
   "source": [
    "female_stat = salaries_df.loc[(salaries_df[\"gender\"] == \"Female\")].mean()\n",
    "female_stat"
   ]
  },
  {
   "cell_type": "code",
   "execution_count": 15,
   "id": "c02a26e9",
   "metadata": {},
   "outputs": [
    {
     "data": {
      "text/plain": [
       "totalyearlycompensation    212446.977928\n",
       "latitude                       38.661581\n",
       "longitude                     -83.970007\n",
       "yearsofexperience               7.287895\n",
       "yearsatcompany                  2.738491\n",
       "basesalary                 136315.199933\n",
       "stockgrantvalue             51364.059436\n",
       "bonus                       19395.310179\n",
       "dtype: float64"
      ]
     },
     "execution_count": 15,
     "metadata": {},
     "output_type": "execute_result"
    }
   ],
   "source": [
    "male_stat = salaries_df.loc[(salaries_df[\"gender\"] == \"Male\")].mean()\n",
    "male_stat"
   ]
  },
  {
   "cell_type": "code",
   "execution_count": 16,
   "id": "3c8aebf3",
   "metadata": {},
   "outputs": [
    {
     "data": {
      "text/html": [
       "<div>\n",
       "<style scoped>\n",
       "    .dataframe tbody tr th:only-of-type {\n",
       "        vertical-align: middle;\n",
       "    }\n",
       "\n",
       "    .dataframe tbody tr th {\n",
       "        vertical-align: top;\n",
       "    }\n",
       "\n",
       "    .dataframe thead th {\n",
       "        text-align: right;\n",
       "    }\n",
       "</style>\n",
       "<table border=\"1\" class=\"dataframe\">\n",
       "  <thead>\n",
       "    <tr style=\"text-align: right;\">\n",
       "      <th></th>\n",
       "      <th>gender</th>\n",
       "      <th>totalyearlycompensation</th>\n",
       "    </tr>\n",
       "  </thead>\n",
       "  <tbody>\n",
       "    <tr>\n",
       "      <th>0</th>\n",
       "      <td>Unknown</td>\n",
       "      <td>127000</td>\n",
       "    </tr>\n",
       "    <tr>\n",
       "      <th>1</th>\n",
       "      <td>Unknown</td>\n",
       "      <td>100000</td>\n",
       "    </tr>\n",
       "    <tr>\n",
       "      <th>2</th>\n",
       "      <td>Unknown</td>\n",
       "      <td>310000</td>\n",
       "    </tr>\n",
       "    <tr>\n",
       "      <th>3</th>\n",
       "      <td>Unknown</td>\n",
       "      <td>372000</td>\n",
       "    </tr>\n",
       "    <tr>\n",
       "      <th>4</th>\n",
       "      <td>Unknown</td>\n",
       "      <td>157000</td>\n",
       "    </tr>\n",
       "  </tbody>\n",
       "</table>\n",
       "</div>"
      ],
      "text/plain": [
       "    gender  totalyearlycompensation\n",
       "0  Unknown                   127000\n",
       "1  Unknown                   100000\n",
       "2  Unknown                   310000\n",
       "3  Unknown                   372000\n",
       "4  Unknown                   157000"
      ]
     },
     "execution_count": 16,
     "metadata": {},
     "output_type": "execute_result"
    }
   ],
   "source": [
    "gender_plot = salaries_df[[\"gender\", \"totalyearlycompensation\"]].copy()\n",
    "gender_plot.head()"
   ]
  },
  {
   "cell_type": "code",
   "execution_count": 17,
   "id": "bba38892",
   "metadata": {},
   "outputs": [
    {
     "data": {
      "text/plain": [
       "array(['Unknown', 'Male', 'Female', 'Other'], dtype=object)"
      ]
     },
     "execution_count": 17,
     "metadata": {},
     "output_type": "execute_result"
    }
   ],
   "source": [
    "gender_plot['gender'].unique()"
   ]
  },
  {
   "cell_type": "code",
   "execution_count": 18,
   "id": "629cf075",
   "metadata": {},
   "outputs": [],
   "source": [
    "gender_plot = gender_plot.loc[(gender_plot[\"gender\"] != \"Unknown\") & (gender_plot[\"gender\"] != \"Other\")]"
   ]
  },
  {
   "cell_type": "code",
   "execution_count": 19,
   "id": "37e546ad",
   "metadata": {},
   "outputs": [
    {
     "data": {
      "image/png": "[encoded data removed]",
      "text/plain": [
       "<Figure size 2000x1000 with 1 Axes>"
      ]
     },
     "metadata": {},
     "output_type": "display_data"
    }
   ],
   "source": [
    "# plot for Gender boxplot\n",
    "flierprops = dict(marker='o', markerfacecolor='r', markersize=12,\n",
    "                  linestyle='none', markeredgecolor='g', )\n",
    "gender_plot.boxplot(\"totalyearlycompensation\", by=\"gender\", figsize=(20, 10), flierprops=flierprops)\n",
    "plt.show()"
   ]
  },
  {
   "cell_type": "code",
   "execution_count": 20,
   "id": "fb023364",
   "metadata": {},
   "outputs": [
    {
     "data": {
      "text/plain": [
       "gender  totalyearlycompensation\n",
       "Male    200000                     643\n",
       "        150000                     569\n",
       "        180000                     477\n",
       "        160000                     473\n",
       "        250000                     453\n",
       "                                  ... \n",
       "Female  371000                       1\n",
       "        373000                       1\n",
       "Male    503000                       1\n",
       "Female  382000                       1\n",
       "Male    4980000                      1\n",
       "Length: 1316, dtype: int64"
      ]
     },
     "execution_count": 20,
     "metadata": {},
     "output_type": "execute_result"
    }
   ],
   "source": [
    "gender_plot.value_counts()"
   ]
  },
  {
   "cell_type": "code",
   "execution_count": 21,
   "id": "5ff298dc",
   "metadata": {},
   "outputs": [],
   "source": [
    "# Creating Group for Anova\n",
    "female = salaries_df[salaries_df[\"gender\"]== \"Female\"][\"totalyearlycompensation\"]\n",
    "male = salaries_df[salaries_df[\"gender\"]== \"Male\"][\"totalyearlycompensation\"]"
   ]
  },
  {
   "cell_type": "code",
   "execution_count": 22,
   "id": "96a9049b",
   "metadata": {},
   "outputs": [
    {
     "data": {
      "text/plain": [
       "F_onewayResult(statistic=97.03653044197561, pvalue=7.199280899773692e-23)"
      ]
     },
     "execution_count": 22,
     "metadata": {},
     "output_type": "execute_result"
    }
   ],
   "source": [
    "ret = stats.f_oneway(female, male)\n",
    "ret"
   ]
  },
  {
   "cell_type": "code",
   "execution_count": 23,
   "id": "d999deb3",
   "metadata": {},
   "outputs": [
    {
     "data": {
      "text/plain": [
       "[97.03653044197561, 7.199280899773692e-23]"
      ]
     },
     "execution_count": 23,
     "metadata": {},
     "output_type": "execute_result"
    }
   ],
   "source": [
    "list(ret)"
   ]
  },
  {
   "cell_type": "code",
   "execution_count": 24,
   "id": "156b1645",
   "metadata": {},
   "outputs": [],
   "source": [
    "# create a function for p-value statistically significant analysis with 0.5 \n",
    "def pvalue_stat(pval, a=.05):\n",
    "    if pval<a :\n",
    "        return f\"{pval} ({pval:0.6f}) is Statistically Significant (reject the null hypothesis)\"\n",
    "    return f\"{pval} ({pval:0.6f}) is Statistically Non-Significant (failed to reject the null hypothesis)\""
   ]
  },
  {
   "cell_type": "code",
   "execution_count": 25,
   "id": "6028f422",
   "metadata": {},
   "outputs": [
    {
     "data": {
      "text/plain": [
       "'7.199280899773692e-23 (0.000000) is Statistically Significant (reject the null hypothesis)'"
      ]
     },
     "execution_count": 25,
     "metadata": {},
     "output_type": "execute_result"
    }
   ],
   "source": [
    "pvalue_stat(ret[1])"
   ]
  },
  {
   "cell_type": "markdown",
   "id": "1c325d80",
   "metadata": {},
   "source": [
    "# Race"
   ]
  },
  {
   "cell_type": "code",
   "execution_count": 26,
   "id": "d6025972",
   "metadata": {},
   "outputs": [
    {
     "data": {
      "text/plain": [
       "Unknown        40215\n",
       "Asian          11772\n",
       "White           8032\n",
       "Hispanic        1129\n",
       "Two Or More      804\n",
       "Black            690\n",
       "Name: Race, dtype: int64"
      ]
     },
     "execution_count": 26,
     "metadata": {},
     "output_type": "execute_result"
    }
   ],
   "source": [
    "race = salaries_df[\"Race\"].value_counts()\n",
    "race"
   ]
  },
  {
   "cell_type": "code",
   "execution_count": 27,
   "id": "fa1bec8d",
   "metadata": {},
   "outputs": [
    {
     "data": {
      "text/plain": [
       "totalyearlycompensation    193324.753653\n",
       "latitude                       36.051929\n",
       "longitude                     -71.682934\n",
       "yearsofexperience               6.564815\n",
       "yearsatcompany                  2.526461\n",
       "basesalary                 129829.170914\n",
       "stockgrantvalue             44603.525314\n",
       "bonus                       18054.451240\n",
       "dtype: float64"
      ]
     },
     "execution_count": 27,
     "metadata": {},
     "output_type": "execute_result"
    }
   ],
   "source": [
    "asian_stat = salaries_df.loc[(salaries_df[\"Race\"]== \"Asian\")].mean()\n",
    "asian_stat"
   ]
  },
  {
   "cell_type": "code",
   "execution_count": 28,
   "id": "c571e61f",
   "metadata": {},
   "outputs": [
    {
     "data": {
      "text/plain": [
       "totalyearlycompensation    181324.637681\n",
       "latitude                       39.606069\n",
       "longitude                     -94.039314\n",
       "yearsofexperience               5.949275\n",
       "yearsatcompany                  1.842029\n",
       "basesalary                 131549.275362\n",
       "stockgrantvalue             28798.453623\n",
       "bonus                       18313.043478\n",
       "dtype: float64"
      ]
     },
     "execution_count": 28,
     "metadata": {},
     "output_type": "execute_result"
    }
   ],
   "source": [
    "black_stat = salaries_df.loc[(salaries_df[\"Race\"]== \"Black\")].mean()\n",
    "black_stat"
   ]
  },
  {
   "cell_type": "code",
   "execution_count": 29,
   "id": "d86e8ec1",
   "metadata": {},
   "outputs": [
    {
     "data": {
      "text/plain": [
       "totalyearlycompensation    189701.505757\n",
       "latitude                       37.627171\n",
       "longitude                     -95.423529\n",
       "yearsofexperience               7.113375\n",
       "yearsatcompany                  2.522586\n",
       "basesalary                 132629.760850\n",
       "stockgrantvalue             39172.719221\n",
       "bonus                       17957.484500\n",
       "dtype: float64"
      ]
     },
     "execution_count": 29,
     "metadata": {},
     "output_type": "execute_result"
    }
   ],
   "source": [
    "hispanic_stat = salaries_df.loc[(salaries_df[\"Race\"]== \"Hispanic\")].mean()\n",
    "hispanic_stat"
   ]
  },
  {
   "cell_type": "code",
   "execution_count": 30,
   "id": "0b455a24",
   "metadata": {},
   "outputs": [
    {
     "data": {
      "text/plain": [
       "timestamp                  NaN\n",
       "date                       NaN\n",
       "company                    NaN\n",
       "level                      NaN\n",
       "title                      NaN\n",
       "totalyearlycompensation    NaN\n",
       "location                   NaN\n",
       "latitude                   NaN\n",
       "longitude                  NaN\n",
       "yearsofexperience          NaN\n",
       "yearsatcompany             NaN\n",
       "basesalary                 NaN\n",
       "stockgrantvalue            NaN\n",
       "bonus                      NaN\n",
       "gender                     NaN\n",
       "Race                       NaN\n",
       "Education                  NaN\n",
       "dtype: object"
      ]
     },
     "execution_count": 30,
     "metadata": {},
     "output_type": "execute_result"
    }
   ],
   "source": [
    "two_or_more_stat = salaries_df.loc[(salaries_df[\"Race\"]== \"Two or More\")].mean()\n",
    "two_or_more_stat"
   ]
  },
  {
   "cell_type": "code",
   "execution_count": 31,
   "id": "8aea4cae",
   "metadata": {},
   "outputs": [
    {
     "data": {
      "text/plain": [
       "totalyearlycompensation    206293.700199\n",
       "latitude                       40.893036\n",
       "longitude                     -82.344608\n",
       "yearsofexperience               8.189617\n",
       "yearsatcompany                  3.104333\n",
       "basesalary                 139939.492032\n",
       "stockgrantvalue             47007.584661\n",
       "bonus                       18790.214143\n",
       "dtype: float64"
      ]
     },
     "execution_count": 31,
     "metadata": {},
     "output_type": "execute_result"
    }
   ],
   "source": [
    "white_stat = salaries_df.loc[(salaries_df[\"Race\"]== \"White\")].mean()\n",
    "white_stat"
   ]
  },
  {
   "cell_type": "code",
   "execution_count": 32,
   "id": "e64df05d",
   "metadata": {},
   "outputs": [],
   "source": [
    "# Creating Group for Anova\n",
    "asian = salaries_df[salaries_df[\"Race\"]== \"Asian\"][\"totalyearlycompensation\"]\n",
    "black = salaries_df[salaries_df[\"Race\"]== \"Black\"][\"totalyearlycompensation\"]\n",
    "hispanic = salaries_df[salaries_df[\"Race\"]== \"Hispanic\"][\"totalyearlycompensation\"]\n",
    "two_or_more = salaries_df[salaries_df[\"Race\"]== \"Two Or More\"][\"totalyearlycompensation\"]\n",
    "white = salaries_df[salaries_df[\"Race\"]== \"White\"][\"totalyearlycompensation\"]"
   ]
  },
  {
   "cell_type": "code",
   "execution_count": 33,
   "id": "271030a7",
   "metadata": {},
   "outputs": [
    {
     "data": {
      "text/plain": [
       "F_onewayResult(statistic=15.76566761913388, pvalue=6.862083786426721e-13)"
      ]
     },
     "execution_count": 33,
     "metadata": {},
     "output_type": "execute_result"
    }
   ],
   "source": [
    "ret = stats.f_oneway(asian, black, hispanic, two_or_more, white)\n",
    "ret"
   ]
  },
  {
   "cell_type": "code",
   "execution_count": 34,
   "id": "fb67fb95",
   "metadata": {},
   "outputs": [
    {
     "data": {
      "text/plain": [
       "[15.76566761913388, 6.862083786426721e-13]"
      ]
     },
     "execution_count": 34,
     "metadata": {},
     "output_type": "execute_result"
    }
   ],
   "source": [
    "list(ret)"
   ]
  },
  {
   "cell_type": "code",
   "execution_count": 35,
   "id": "aa454b7b",
   "metadata": {},
   "outputs": [
    {
     "data": {
      "text/plain": [
       "'6.862083786426721e-13 (0.000000) is Statistically Significant (reject the null hypothesis)'"
      ]
     },
     "execution_count": 35,
     "metadata": {},
     "output_type": "execute_result"
    }
   ],
   "source": [
    "pvalue_stat(ret[1])"
   ]
  },
  {
   "cell_type": "code",
   "execution_count": 36,
   "id": "620baac0",
   "metadata": {},
   "outputs": [
    {
     "data": {
      "image/png": "[encoded data removed]",
      "text/plain": [
       "<Figure size 700x600 with 1 Axes>"
      ]
     },
     "metadata": {},
     "output_type": "display_data"
    }
   ],
   "source": [
    "sns.set_theme(style=\"ticks\")\n",
    "\n",
    "# Initialize the figure with a logarithmic x axis\n",
    "f, ax = plt.subplots(figsize=(7, 6))\n",
    "#ax.set_xscale(\"log\")\n",
    "salaries_df2 = salaries_df.loc[salaries_df[\"Race\"]!= \"Unknown\"]\n",
    "\n",
    "# Plot the orbital period with horizontal boxes\n",
    "plot = sns.boxplot(x=\"totalyearlycompensation\", y=\"Race\", data=salaries_df2,\n",
    "            whis=[0, 100], width=.6, palette=\"vlag\")\n",
    "plot.set(xlim = (0,5000000))\n",
    "# Add in points to show each observation\n",
    "#sns.stripplot(x=\"totalyearlycompensation\", y=\"Race\", data=salaries_df,\n",
    "              #size=4, color=\".3\", linewidth=0)\n",
    "\n",
    "# Tweak the visual presentation\n",
    "ax.xaxis.grid(True)\n",
    "ax.set(ylabel=\"\")\n",
    "sns.despine(trim=True, left=True)\n"
   ]
  },
  {
   "cell_type": "markdown",
   "id": "25723b93",
   "metadata": {},
   "source": [
    "# Education"
   ]
  },
  {
   "cell_type": "code",
   "execution_count": 37,
   "id": "b32858aa",
   "metadata": {},
   "outputs": [
    {
     "data": {
      "text/plain": [
       "Unknown              32272\n",
       "Master's Degree      15391\n",
       "Bachelor's Degree    12601\n",
       "PhD                   1703\n",
       "Some College           355\n",
       "Highschool             320\n",
       "Name: Education, dtype: int64"
      ]
     },
     "execution_count": 37,
     "metadata": {},
     "output_type": "execute_result"
    }
   ],
   "source": [
    "education = salaries_df[\"Education\"].value_counts()\n",
    "education"
   ]
  },
  {
   "cell_type": "code",
   "execution_count": 38,
   "id": "da8bd0af",
   "metadata": {},
   "outputs": [
    {
     "data": {
      "text/plain": [
       "totalyearlycompensation    220731.076603\n",
       "latitude                       39.124024\n",
       "longitude                     -88.071851\n",
       "yearsofexperience               7.821292\n",
       "yearsatcompany                  2.851397\n",
       "basesalary                 145744.006237\n",
       "stockgrantvalue             53023.926321\n",
       "bonus                       20814.634527\n",
       "dtype: float64"
      ]
     },
     "execution_count": 38,
     "metadata": {},
     "output_type": "execute_result"
    }
   ],
   "source": [
    "master_stat = salaries_df.loc[(salaries_df[\"Education\"]== \"Master's Degree\")].mean()\n",
    "master_stat"
   ]
  },
  {
   "cell_type": "code",
   "execution_count": 39,
   "id": "dff1a6b1",
   "metadata": {},
   "outputs": [
    {
     "data": {
      "text/plain": [
       "totalyearlycompensation    177845.409095\n",
       "latitude                       37.189570\n",
       "longitude                     -71.384584\n",
       "yearsofexperience               6.396397\n",
       "yearsatcompany                  2.523451\n",
       "basesalary                 123958.495358\n",
       "stockgrantvalue             37679.677407\n",
       "bonus                       15982.541068\n",
       "dtype: float64"
      ]
     },
     "execution_count": 39,
     "metadata": {},
     "output_type": "execute_result"
    }
   ],
   "source": [
    "bachelor_stat = salaries_df.loc[(salaries_df[\"Education\"]== \"Bachelor's Degree\")].mean()\n",
    "bachelor_stat"
   ]
  },
  {
   "cell_type": "code",
   "execution_count": 40,
   "id": "2d88f535",
   "metadata": {},
   "outputs": [
    {
     "data": {
      "text/plain": [
       "totalyearlycompensation    291865.531415\n",
       "latitude                       39.862428\n",
       "longitude                    -101.787369\n",
       "yearsofexperience               6.898415\n",
       "yearsatcompany                  2.706812\n",
       "basesalary                 173409.864944\n",
       "stockgrantvalue             88083.969466\n",
       "bonus                       30432.765708\n",
       "dtype: float64"
      ]
     },
     "execution_count": 40,
     "metadata": {},
     "output_type": "execute_result"
    }
   ],
   "source": [
    "phd_stat = salaries_df.loc[(salaries_df[\"Education\"]== \"PhD\")].mean()\n",
    "phd_stat"
   ]
  },
  {
   "cell_type": "code",
   "execution_count": 41,
   "id": "c000be2a",
   "metadata": {},
   "outputs": [
    {
     "data": {
      "text/plain": [
       "totalyearlycompensation    210121.126761\n",
       "latitude                       39.454916\n",
       "longitude                     -89.520371\n",
       "yearsofexperience              10.138028\n",
       "yearsatcompany                  2.949296\n",
       "basesalary                 141966.197183\n",
       "stockgrantvalue             49557.746479\n",
       "bonus                       18670.422535\n",
       "dtype: float64"
      ]
     },
     "execution_count": 41,
     "metadata": {},
     "output_type": "execute_result"
    }
   ],
   "source": [
    "some_college_stat = salaries_df.loc[(salaries_df[\"Education\"]== \"Some College\")].mean()\n",
    "some_college_stat"
   ]
  },
  {
   "cell_type": "code",
   "execution_count": 42,
   "id": "d726a7b1",
   "metadata": {},
   "outputs": [
    {
     "data": {
      "text/plain": [
       "totalyearlycompensation    187731.250000\n",
       "latitude                       39.812040\n",
       "longitude                     -68.470732\n",
       "yearsofexperience               8.150000\n",
       "yearsatcompany                  2.431250\n",
       "basesalary                 129378.125000\n",
       "stockgrantvalue             41640.625000\n",
       "bonus                       16750.000000\n",
       "dtype: float64"
      ]
     },
     "execution_count": 42,
     "metadata": {},
     "output_type": "execute_result"
    }
   ],
   "source": [
    "high_school_stat = salaries_df.loc[(salaries_df[\"Education\"]== \"Highschool\")].mean()\n",
    "high_school_stat"
   ]
  },
  {
   "cell_type": "code",
   "execution_count": 43,
   "id": "16c76b66",
   "metadata": {},
   "outputs": [],
   "source": [
    "# Creating Group for Anova\n",
    "master = salaries_df[salaries_df[\"Education\"]== \"Master's Degree\"][\"totalyearlycompensation\"]\n",
    "bachelor = salaries_df[salaries_df[\"Education\"]== \"Bachelor's Degree\"][\"totalyearlycompensation\"]\n",
    "phD = salaries_df[salaries_df[\"Education\"]== \"PhD\"][\"totalyearlycompensation\"]\n",
    "some_college = salaries_df[salaries_df[\"Education\"]== \"Some College\"][\"totalyearlycompensation\"]\n",
    "highschool = salaries_df[salaries_df[\"Education\"]== \"Highschool\"][\"totalyearlycompensation\"]"
   ]
  },
  {
   "cell_type": "code",
   "execution_count": 44,
   "id": "0be888e6",
   "metadata": {},
   "outputs": [
    {
     "data": {
      "text/plain": [
       "F_onewayResult(statistic=15.76566761913388, pvalue=6.862083786426721e-13)"
      ]
     },
     "execution_count": 44,
     "metadata": {},
     "output_type": "execute_result"
    }
   ],
   "source": [
    "ret = stats.f_oneway(asian, black, hispanic, two_or_more, white)\n",
    "ret"
   ]
  },
  {
   "cell_type": "code",
   "execution_count": 45,
   "id": "4d809d85",
   "metadata": {},
   "outputs": [
    {
     "data": {
      "text/plain": [
       "[15.76566761913388, 6.862083786426721e-13]"
      ]
     },
     "execution_count": 45,
     "metadata": {},
     "output_type": "execute_result"
    }
   ],
   "source": [
    "list(ret)"
   ]
  },
  {
   "cell_type": "code",
   "execution_count": 46,
   "id": "c53b7a9c",
   "metadata": {},
   "outputs": [
    {
     "data": {
      "text/plain": [
       "'6.862083786426721e-13 (0.000000) is Statistically Significant (reject the null hypothesis)'"
      ]
     },
     "execution_count": 46,
     "metadata": {},
     "output_type": "execute_result"
    }
   ],
   "source": [
    "pvalue_stat(ret[1])"
   ]
  },
  {
   "cell_type": "code",
   "execution_count": 47,
   "id": "0ff49d92",
   "metadata": {},
   "outputs": [
    {
     "data": {
      "image/png": "[encoded data removed]",
      "text/plain": [
       "<Figure size 700x600 with 1 Axes>"
      ]
     },
     "metadata": {},
     "output_type": "display_data"
    }
   ],
   "source": [
    "sns.set_theme(style=\"ticks\")\n",
    "\n",
    "# Initialize the figure with a logarithmic x axis\n",
    "f, ax = plt.subplots(figsize=(7, 6))\n",
    "#ax.set_xscale(\"log\")\n",
    "salaries_race = salaries_df.loc[salaries_df[\"Education\"]!= \"Unknown\"]\n",
    "\n",
    "# Plot the orbital period with horizontal boxes\n",
    "plot = sns.boxplot(x=\"totalyearlycompensation\", y=\"Education\", data=salaries_race,\n",
    "            whis=[0, 100], width=.6, palette=\"vlag\")\n",
    "plot.set(xlim = (0,5000000))\n",
    "\n",
    "# Tweak the visual presentation\n",
    "ax.xaxis.grid(True)\n",
    "ax.set(ylabel=\"\")\n",
    "sns.despine(trim=True, left=True)\n"
   ]
  },
  {
   "cell_type": "code",
   "execution_count": null,
   "id": "9d95dec2",
   "metadata": {},
   "outputs": [],
   "source": []
  }
 ],
 "metadata": {
  "colab": {
   "provenance": []
  },
  "kernelspec": {
   "display_name": "PythonData",
   "language": "python",
   "name": "pythondata"
  },
  "language_info": {
   "codemirror_mode": {
    "name": "ipython",
    "version": 3
   },
   "file_extension": ".py",
   "mimetype": "text/x-python",
   "name": "python",
   "nbconvert_exporter": "python",
   "pygments_lexer": "ipython3",
   "version": "3.9.13"
  }
 },
 "nbformat": 4,
 "nbformat_minor": 5
}
