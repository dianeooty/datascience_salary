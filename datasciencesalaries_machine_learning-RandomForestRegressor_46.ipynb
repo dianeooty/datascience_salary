{
 "cells": [
  {
   "cell_type": "code",
   "execution_count": 3,
   "id": "a594b50b",
   "metadata": {
    "id": "a594b50b"
   },
   "outputs": [],
   "source": [
    "# Import libraries\n",
    "import pandas as pd\n",
    "import numpy as np\n",
    "pd.set_option('max_colwidth', 400)\n",
    "import requests\n",
    "import matplotlib.pyplot as plt\n",
    "import json\n",
    "import re\n",
    "import warnings\n",
    "warnings.filterwarnings('ignore')\n",
    "from sklearn.model_selection import train_test_split\n",
    "from sklearn.preprocessing import StandardScaler\n",
    "import tensorflow as tf"
   ]
  },
  {
   "cell_type": "code",
   "execution_count": 2,
   "id": "8e4cb265",
   "metadata": {
    "colab": {
     "base_uri": "https://localhost:8080/",
     "height": 73
    },
    "id": "8e4cb265",
    "outputId": "fa1cadb6-cc39-453b-a325-787800ac7910"
   },
   "outputs": [],
   "source": [
    "# # Read csv and create dataframe\n",
    "# from google.colab import files\n",
    "# uploaded = files.upload()"
   ]
  },
  {
   "cell_type": "code",
   "execution_count": null,
   "id": "06280755",
   "metadata": {},
   "outputs": [],
   "source": []
  },
  {
   "cell_type": "code",
   "execution_count": 10,
   "id": "pgx9TA8tclvw",
   "metadata": {
    "id": "pgx9TA8tclvw"
   },
   "outputs": [],
   "source": [
    "import io\n",
    "salaries_df = pd.read_csv('Resources/salaries_cleaned.csv')"
   ]
  },
  {
   "cell_type": "code",
   "execution_count": 28,
   "id": "SLrQkAZHORY5",
   "metadata": {
    "colab": {
     "base_uri": "https://localhost:8080/",
     "height": 73
    },
    "id": "SLrQkAZHORY5",
    "outputId": "fc012395-716b-4d9d-8f8f-77aa6a3fa4d3"
   },
   "outputs": [],
   "source": [
    "# from google.colab import files\n",
    "# uploaded = files.upload()"
   ]
  },
  {
   "cell_type": "code",
   "execution_count": 11,
   "id": "3aEwkWQGeKvw",
   "metadata": {
    "colab": {
     "base_uri": "https://localhost:8080/",
     "height": 421
    },
    "id": "3aEwkWQGeKvw",
    "outputId": "33120ed8-4e2d-433a-b9bf-c4e09dfb333a"
   },
   "outputs": [
    {
     "data": {
      "text/html": [
       "<div>\n",
       "<style scoped>\n",
       "    .dataframe tbody tr th:only-of-type {\n",
       "        vertical-align: middle;\n",
       "    }\n",
       "\n",
       "    .dataframe tbody tr th {\n",
       "        vertical-align: top;\n",
       "    }\n",
       "\n",
       "    .dataframe thead th {\n",
       "        text-align: right;\n",
       "    }\n",
       "</style>\n",
       "<table border=\"1\" class=\"dataframe\">\n",
       "  <thead>\n",
       "    <tr style=\"text-align: right;\">\n",
       "      <th></th>\n",
       "      <th>Unnamed: 0</th>\n",
       "      <th>timestamp</th>\n",
       "      <th>date</th>\n",
       "      <th>company</th>\n",
       "      <th>level</th>\n",
       "      <th>title</th>\n",
       "      <th>totalyearlycompensation</th>\n",
       "      <th>location</th>\n",
       "      <th>latitude</th>\n",
       "      <th>longitude</th>\n",
       "      <th>yearsofexperience</th>\n",
       "      <th>yearsatcompany</th>\n",
       "      <th>basesalary</th>\n",
       "      <th>stockgrantvalue</th>\n",
       "      <th>bonus</th>\n",
       "      <th>gender</th>\n",
       "      <th>Race</th>\n",
       "      <th>Education</th>\n",
       "    </tr>\n",
       "  </thead>\n",
       "  <tbody>\n",
       "    <tr>\n",
       "      <th>0</th>\n",
       "      <td>0</td>\n",
       "      <td>2017-06-07 11:33:00</td>\n",
       "      <td>2017-06-07 00:00:00</td>\n",
       "      <td>Oracle</td>\n",
       "      <td>L3</td>\n",
       "      <td>Product Manager</td>\n",
       "      <td>127000</td>\n",
       "      <td>Redwood City, CA</td>\n",
       "      <td>37.486324</td>\n",
       "      <td>-122.232523</td>\n",
       "      <td>1.5</td>\n",
       "      <td>1.5</td>\n",
       "      <td>107000</td>\n",
       "      <td>20000</td>\n",
       "      <td>10000</td>\n",
       "      <td>Unknown</td>\n",
       "      <td>Unknown</td>\n",
       "      <td>Unknown</td>\n",
       "    </tr>\n",
       "    <tr>\n",
       "      <th>1</th>\n",
       "      <td>1</td>\n",
       "      <td>2017-06-10 17:11:00</td>\n",
       "      <td>2017-06-10 00:00:00</td>\n",
       "      <td>eBay</td>\n",
       "      <td>SE 2</td>\n",
       "      <td>Software Engineer</td>\n",
       "      <td>100000</td>\n",
       "      <td>San Francisco, CA</td>\n",
       "      <td>37.779026</td>\n",
       "      <td>-122.419906</td>\n",
       "      <td>5.0</td>\n",
       "      <td>3.0</td>\n",
       "      <td>0</td>\n",
       "      <td>0</td>\n",
       "      <td>0</td>\n",
       "      <td>Unknown</td>\n",
       "      <td>Unknown</td>\n",
       "      <td>Unknown</td>\n",
       "    </tr>\n",
       "    <tr>\n",
       "      <th>2</th>\n",
       "      <td>2</td>\n",
       "      <td>2017-06-11 14:53:00</td>\n",
       "      <td>2017-06-11 00:00:00</td>\n",
       "      <td>Amazon</td>\n",
       "      <td>L7</td>\n",
       "      <td>Product Manager</td>\n",
       "      <td>310000</td>\n",
       "      <td>Seattle, WA</td>\n",
       "      <td>47.603832</td>\n",
       "      <td>-122.330062</td>\n",
       "      <td>8.0</td>\n",
       "      <td>0.0</td>\n",
       "      <td>155000</td>\n",
       "      <td>0</td>\n",
       "      <td>0</td>\n",
       "      <td>Unknown</td>\n",
       "      <td>Unknown</td>\n",
       "      <td>Unknown</td>\n",
       "    </tr>\n",
       "    <tr>\n",
       "      <th>3</th>\n",
       "      <td>3</td>\n",
       "      <td>2017-06-17 00:23:00</td>\n",
       "      <td>2017-06-17 00:00:00</td>\n",
       "      <td>Apple</td>\n",
       "      <td>M1</td>\n",
       "      <td>Software Engineering Manager</td>\n",
       "      <td>372000</td>\n",
       "      <td>Sunnyvale, CA</td>\n",
       "      <td>37.368830</td>\n",
       "      <td>-122.036349</td>\n",
       "      <td>7.0</td>\n",
       "      <td>5.0</td>\n",
       "      <td>157000</td>\n",
       "      <td>180000</td>\n",
       "      <td>35000</td>\n",
       "      <td>Unknown</td>\n",
       "      <td>Unknown</td>\n",
       "      <td>Unknown</td>\n",
       "    </tr>\n",
       "    <tr>\n",
       "      <th>4</th>\n",
       "      <td>4</td>\n",
       "      <td>2017-06-20 10:58:00</td>\n",
       "      <td>2017-06-20 00:00:00</td>\n",
       "      <td>Microsoft</td>\n",
       "      <td>60</td>\n",
       "      <td>Software Engineer</td>\n",
       "      <td>157000</td>\n",
       "      <td>Mountain View, CA</td>\n",
       "      <td>37.389389</td>\n",
       "      <td>-122.083210</td>\n",
       "      <td>5.0</td>\n",
       "      <td>3.0</td>\n",
       "      <td>0</td>\n",
       "      <td>0</td>\n",
       "      <td>0</td>\n",
       "      <td>Unknown</td>\n",
       "      <td>Unknown</td>\n",
       "      <td>Unknown</td>\n",
       "    </tr>\n",
       "  </tbody>\n",
       "</table>\n",
       "</div>"
      ],
      "text/plain": [
       "   Unnamed: 0            timestamp                 date    company level  \\\n",
       "0           0  2017-06-07 11:33:00  2017-06-07 00:00:00     Oracle    L3   \n",
       "1           1  2017-06-10 17:11:00  2017-06-10 00:00:00       eBay  SE 2   \n",
       "2           2  2017-06-11 14:53:00  2017-06-11 00:00:00     Amazon    L7   \n",
       "3           3  2017-06-17 00:23:00  2017-06-17 00:00:00      Apple    M1   \n",
       "4           4  2017-06-20 10:58:00  2017-06-20 00:00:00  Microsoft    60   \n",
       "\n",
       "                          title  totalyearlycompensation           location  \\\n",
       "0               Product Manager                   127000   Redwood City, CA   \n",
       "1             Software Engineer                   100000  San Francisco, CA   \n",
       "2               Product Manager                   310000        Seattle, WA   \n",
       "3  Software Engineering Manager                   372000      Sunnyvale, CA   \n",
       "4             Software Engineer                   157000  Mountain View, CA   \n",
       "\n",
       "    latitude   longitude  yearsofexperience  yearsatcompany  basesalary  \\\n",
       "0  37.486324 -122.232523                1.5             1.5      107000   \n",
       "1  37.779026 -122.419906                5.0             3.0           0   \n",
       "2  47.603832 -122.330062                8.0             0.0      155000   \n",
       "3  37.368830 -122.036349                7.0             5.0      157000   \n",
       "4  37.389389 -122.083210                5.0             3.0           0   \n",
       "\n",
       "   stockgrantvalue  bonus   gender     Race Education  \n",
       "0            20000  10000  Unknown  Unknown   Unknown  \n",
       "1                0      0  Unknown  Unknown   Unknown  \n",
       "2                0      0  Unknown  Unknown   Unknown  \n",
       "3           180000  35000  Unknown  Unknown   Unknown  \n",
       "4                0      0  Unknown  Unknown   Unknown  "
      ]
     },
     "execution_count": 11,
     "metadata": {},
     "output_type": "execute_result"
    }
   ],
   "source": [
    "salaries_df.head()"
   ]
  },
  {
   "cell_type": "code",
   "execution_count": 12,
   "id": "e9c895c6",
   "metadata": {
    "scrolled": true
   },
   "outputs": [
    {
     "data": {
      "text/plain": [
       "Index(['Unnamed: 0', 'timestamp', 'date', 'company', 'level', 'title',\n",
       "       'totalyearlycompensation', 'location', 'latitude', 'longitude',\n",
       "       'yearsofexperience', 'yearsatcompany', 'basesalary', 'stockgrantvalue',\n",
       "       'bonus', 'gender', 'Race', 'Education'],\n",
       "      dtype='object')"
      ]
     },
     "execution_count": 12,
     "metadata": {},
     "output_type": "execute_result"
    }
   ],
   "source": [
    "salaries_df.columns"
   ]
  },
  {
   "cell_type": "code",
   "execution_count": 13,
   "id": "fc806f20",
   "metadata": {
    "scrolled": true
   },
   "outputs": [
    {
     "data": {
      "text/plain": [
       "Amazon                      8126\n",
       "Microsoft                   5216\n",
       "Google                      4330\n",
       "Facebook                    2990\n",
       "Apple                       2028\n",
       "                            ... \n",
       "Samsung research America       1\n",
       "Bny Mellon                     1\n",
       "yelp                           1\n",
       "Bloomberg lp                   1\n",
       "tableau software               1\n",
       "Name: company, Length: 1631, dtype: int64"
      ]
     },
     "execution_count": 13,
     "metadata": {},
     "output_type": "execute_result"
    }
   ],
   "source": [
    "salaries_df['company'].value_counts()"
   ]
  },
  {
   "cell_type": "code",
   "execution_count": 14,
   "id": "9275db75",
   "metadata": {
    "scrolled": true
   },
   "outputs": [
    {
     "name": "stdout",
     "output_type": "stream",
     "text": [
      "Amazon               8126\n",
      "Microsoft            5216\n",
      "Google               4330\n",
      "Facebook             2990\n",
      "Apple                2028\n",
      "Oracle               1128\n",
      "Salesforce           1056\n",
      "Intel                 949\n",
      "Cisco                 907\n",
      "IBM                   907\n",
      "Uber                  880\n",
      "Capital One           778\n",
      "LinkedIn              701\n",
      "VMware                657\n",
      "Qualcomm              565\n",
      "JPMorgan Chase        541\n",
      "Bloomberg             537\n",
      "Goldman Sachs         469\n",
      "Intuit                449\n",
      "PayPal                426\n",
      "Deloitte              401\n",
      "Twitter               395\n",
      "Adobe                 383\n",
      "Walmart Labs          381\n",
      "Nvidia                357\n",
      "Accenture             355\n",
      "Expedia               352\n",
      "Wayfair               338\n",
      "eBay                  338\n",
      "SAP                   330\n",
      "Lyft                  325\n",
      "Netflix               268\n",
      "Workday               262\n",
      "Dropbox               254\n",
      "Shopify               234\n",
      "Airbnb                229\n",
      "Dell Technologies     228\n",
      "Atlassian             219\n",
      "Visa                  216\n",
      "Name: company, dtype: int64\n"
     ]
    }
   ],
   "source": [
    "val=salaries_df['company'].value_counts()\n",
    "print(val[val>200])"
   ]
  },
  {
   "cell_type": "code",
   "execution_count": 15,
   "id": "0753f9fa",
   "metadata": {
    "scrolled": true
   },
   "outputs": [
    {
     "data": {
      "text/html": [
       "<div>\n",
       "<style scoped>\n",
       "    .dataframe tbody tr th:only-of-type {\n",
       "        vertical-align: middle;\n",
       "    }\n",
       "\n",
       "    .dataframe tbody tr th {\n",
       "        vertical-align: top;\n",
       "    }\n",
       "\n",
       "    .dataframe thead th {\n",
       "        text-align: right;\n",
       "    }\n",
       "</style>\n",
       "<table border=\"1\" class=\"dataframe\">\n",
       "  <thead>\n",
       "    <tr style=\"text-align: right;\">\n",
       "      <th></th>\n",
       "      <th>company</th>\n",
       "    </tr>\n",
       "  </thead>\n",
       "  <tbody>\n",
       "    <tr>\n",
       "      <th>Amazon</th>\n",
       "      <td>8126</td>\n",
       "    </tr>\n",
       "    <tr>\n",
       "      <th>Microsoft</th>\n",
       "      <td>5216</td>\n",
       "    </tr>\n",
       "    <tr>\n",
       "      <th>Google</th>\n",
       "      <td>4330</td>\n",
       "    </tr>\n",
       "    <tr>\n",
       "      <th>Facebook</th>\n",
       "      <td>2990</td>\n",
       "    </tr>\n",
       "    <tr>\n",
       "      <th>Apple</th>\n",
       "      <td>2028</td>\n",
       "    </tr>\n",
       "    <tr>\n",
       "      <th>Oracle</th>\n",
       "      <td>1128</td>\n",
       "    </tr>\n",
       "    <tr>\n",
       "      <th>Salesforce</th>\n",
       "      <td>1056</td>\n",
       "    </tr>\n",
       "    <tr>\n",
       "      <th>Intel</th>\n",
       "      <td>949</td>\n",
       "    </tr>\n",
       "    <tr>\n",
       "      <th>Cisco</th>\n",
       "      <td>907</td>\n",
       "    </tr>\n",
       "    <tr>\n",
       "      <th>IBM</th>\n",
       "      <td>907</td>\n",
       "    </tr>\n",
       "    <tr>\n",
       "      <th>Uber</th>\n",
       "      <td>880</td>\n",
       "    </tr>\n",
       "    <tr>\n",
       "      <th>Capital One</th>\n",
       "      <td>778</td>\n",
       "    </tr>\n",
       "    <tr>\n",
       "      <th>LinkedIn</th>\n",
       "      <td>701</td>\n",
       "    </tr>\n",
       "    <tr>\n",
       "      <th>VMware</th>\n",
       "      <td>657</td>\n",
       "    </tr>\n",
       "    <tr>\n",
       "      <th>Qualcomm</th>\n",
       "      <td>565</td>\n",
       "    </tr>\n",
       "    <tr>\n",
       "      <th>JPMorgan Chase</th>\n",
       "      <td>541</td>\n",
       "    </tr>\n",
       "    <tr>\n",
       "      <th>Bloomberg</th>\n",
       "      <td>537</td>\n",
       "    </tr>\n",
       "    <tr>\n",
       "      <th>Goldman Sachs</th>\n",
       "      <td>469</td>\n",
       "    </tr>\n",
       "    <tr>\n",
       "      <th>Intuit</th>\n",
       "      <td>449</td>\n",
       "    </tr>\n",
       "    <tr>\n",
       "      <th>PayPal</th>\n",
       "      <td>426</td>\n",
       "    </tr>\n",
       "  </tbody>\n",
       "</table>\n",
       "</div>"
      ],
      "text/plain": [
       "                company\n",
       "Amazon             8126\n",
       "Microsoft          5216\n",
       "Google             4330\n",
       "Facebook           2990\n",
       "Apple              2028\n",
       "Oracle             1128\n",
       "Salesforce         1056\n",
       "Intel               949\n",
       "Cisco               907\n",
       "IBM                 907\n",
       "Uber                880\n",
       "Capital One         778\n",
       "LinkedIn            701\n",
       "VMware              657\n",
       "Qualcomm            565\n",
       "JPMorgan Chase      541\n",
       "Bloomberg           537\n",
       "Goldman Sachs       469\n",
       "Intuit              449\n",
       "PayPal              426"
      ]
     },
     "execution_count": 15,
     "metadata": {},
     "output_type": "execute_result"
    }
   ],
   "source": [
    "#top 20 companies\n",
    "comapanies_to_replace=[]\n",
    "company=salaries_df['company'].value_counts()\n",
    "company=pd.DataFrame(company)\n",
    "company.head(20)"
   ]
  },
  {
   "cell_type": "code",
   "execution_count": 16,
   "id": "62148e60",
   "metadata": {},
   "outputs": [],
   "source": [
    "comapanies_to_replace.append(company[company.company<430].index)"
   ]
  },
  {
   "cell_type": "code",
   "execution_count": 22,
   "id": "36df189d",
   "metadata": {},
   "outputs": [
    {
     "ename": "AttributeError",
     "evalue": "'list' object has no attribute 'value_counts'",
     "output_type": "error",
     "traceback": [
      "\u001b[1;31m---------------------------------------------------------------------------\u001b[0m",
      "\u001b[1;31mAttributeError\u001b[0m                            Traceback (most recent call last)",
      "\u001b[1;32m~\\AppData\\Local\\Temp\\ipykernel_8016\\777510688.py\u001b[0m in \u001b[0;36m<module>\u001b[1;34m\u001b[0m\n\u001b[1;32m----> 1\u001b[1;33m \u001b[0mcomapanies_to_replace\u001b[0m\u001b[1;33m.\u001b[0m\u001b[0mvalue_counts\u001b[0m\u001b[1;33m(\u001b[0m\u001b[1;33m)\u001b[0m\u001b[1;33m\u001b[0m\u001b[1;33m\u001b[0m\u001b[0m\n\u001b[0m",
      "\u001b[1;31mAttributeError\u001b[0m: 'list' object has no attribute 'value_counts'"
     ]
    }
   ],
   "source": []
  },
  {
   "cell_type": "code",
   "execution_count": 17,
   "id": "3ce093f7",
   "metadata": {},
   "outputs": [
    {
     "data": {
      "text/plain": [
       "Other             29423\n",
       "Amazon             8126\n",
       "Microsoft          5216\n",
       "Google             4330\n",
       "Facebook           2990\n",
       "Apple              2028\n",
       "Oracle             1128\n",
       "Salesforce         1056\n",
       "Intel               949\n",
       "Cisco               907\n",
       "IBM                 907\n",
       "Uber                880\n",
       "Capital One         778\n",
       "LinkedIn            701\n",
       "VMware              657\n",
       "Qualcomm            565\n",
       "JPMorgan Chase      541\n",
       "Bloomberg           537\n",
       "Goldman Sachs       469\n",
       "Intuit              449\n",
       "Name: company, dtype: int64"
      ]
     },
     "execution_count": 17,
     "metadata": {},
     "output_type": "execute_result"
    }
   ],
   "source": [
    "#Replaced with other for all companies besides the top 20\n",
    "for x in comapanies_to_replace:\n",
    "    salaries_df['company'] = salaries_df['company'].replace(x,\"Other\")\n",
    "    \n",
    "# Check to make sure binning was successful\n",
    "salaries_df['company'].value_counts()"
   ]
  },
  {
   "cell_type": "code",
   "execution_count": 53,
   "id": "c321c01d",
   "metadata": {
    "id": "c321c01d"
   },
   "outputs": [],
   "source": [
    "reduced_df = salaries_df[[ 'company', 'title', 'totalyearlycompensation',\n",
    "       'yearsofexperience', 'yearsatcompany', 'latitude', 'longitude']]"
   ]
  },
  {
   "cell_type": "code",
   "execution_count": 54,
   "id": "7d687528",
   "metadata": {},
   "outputs": [
    {
     "data": {
      "text/html": [
       "<div>\n",
       "<style scoped>\n",
       "    .dataframe tbody tr th:only-of-type {\n",
       "        vertical-align: middle;\n",
       "    }\n",
       "\n",
       "    .dataframe tbody tr th {\n",
       "        vertical-align: top;\n",
       "    }\n",
       "\n",
       "    .dataframe thead th {\n",
       "        text-align: right;\n",
       "    }\n",
       "</style>\n",
       "<table border=\"1\" class=\"dataframe\">\n",
       "  <thead>\n",
       "    <tr style=\"text-align: right;\">\n",
       "      <th></th>\n",
       "      <th>company</th>\n",
       "      <th>title</th>\n",
       "      <th>totalyearlycompensation</th>\n",
       "      <th>yearsofexperience</th>\n",
       "      <th>yearsatcompany</th>\n",
       "      <th>latitude</th>\n",
       "      <th>longitude</th>\n",
       "    </tr>\n",
       "  </thead>\n",
       "  <tbody>\n",
       "    <tr>\n",
       "      <th>0</th>\n",
       "      <td>Oracle</td>\n",
       "      <td>Product Manager</td>\n",
       "      <td>127000</td>\n",
       "      <td>1.5</td>\n",
       "      <td>1.5</td>\n",
       "      <td>37.486324</td>\n",
       "      <td>-122.232523</td>\n",
       "    </tr>\n",
       "    <tr>\n",
       "      <th>1</th>\n",
       "      <td>Other</td>\n",
       "      <td>Software Engineer</td>\n",
       "      <td>100000</td>\n",
       "      <td>5.0</td>\n",
       "      <td>3.0</td>\n",
       "      <td>37.779026</td>\n",
       "      <td>-122.419906</td>\n",
       "    </tr>\n",
       "    <tr>\n",
       "      <th>2</th>\n",
       "      <td>Amazon</td>\n",
       "      <td>Product Manager</td>\n",
       "      <td>310000</td>\n",
       "      <td>8.0</td>\n",
       "      <td>0.0</td>\n",
       "      <td>47.603832</td>\n",
       "      <td>-122.330062</td>\n",
       "    </tr>\n",
       "    <tr>\n",
       "      <th>3</th>\n",
       "      <td>Apple</td>\n",
       "      <td>Software Engineering Manager</td>\n",
       "      <td>372000</td>\n",
       "      <td>7.0</td>\n",
       "      <td>5.0</td>\n",
       "      <td>37.368830</td>\n",
       "      <td>-122.036349</td>\n",
       "    </tr>\n",
       "    <tr>\n",
       "      <th>4</th>\n",
       "      <td>Microsoft</td>\n",
       "      <td>Software Engineer</td>\n",
       "      <td>157000</td>\n",
       "      <td>5.0</td>\n",
       "      <td>3.0</td>\n",
       "      <td>37.389389</td>\n",
       "      <td>-122.083210</td>\n",
       "    </tr>\n",
       "    <tr>\n",
       "      <th>...</th>\n",
       "      <td>...</td>\n",
       "      <td>...</td>\n",
       "      <td>...</td>\n",
       "      <td>...</td>\n",
       "      <td>...</td>\n",
       "      <td>...</td>\n",
       "      <td>...</td>\n",
       "    </tr>\n",
       "    <tr>\n",
       "      <th>62637</th>\n",
       "      <td>Google</td>\n",
       "      <td>Software Engineer</td>\n",
       "      <td>327000</td>\n",
       "      <td>10.0</td>\n",
       "      <td>1.0</td>\n",
       "      <td>47.603832</td>\n",
       "      <td>-122.330062</td>\n",
       "    </tr>\n",
       "    <tr>\n",
       "      <th>62638</th>\n",
       "      <td>Microsoft</td>\n",
       "      <td>Software Engineer</td>\n",
       "      <td>237000</td>\n",
       "      <td>2.0</td>\n",
       "      <td>2.0</td>\n",
       "      <td>47.669414</td>\n",
       "      <td>-122.123877</td>\n",
       "    </tr>\n",
       "    <tr>\n",
       "      <th>62639</th>\n",
       "      <td>Other</td>\n",
       "      <td>Software Engineer</td>\n",
       "      <td>220000</td>\n",
       "      <td>14.0</td>\n",
       "      <td>12.0</td>\n",
       "      <td>47.603832</td>\n",
       "      <td>-122.330062</td>\n",
       "    </tr>\n",
       "    <tr>\n",
       "      <th>62640</th>\n",
       "      <td>Salesforce</td>\n",
       "      <td>Software Engineer</td>\n",
       "      <td>280000</td>\n",
       "      <td>8.0</td>\n",
       "      <td>4.0</td>\n",
       "      <td>37.779026</td>\n",
       "      <td>-122.419906</td>\n",
       "    </tr>\n",
       "    <tr>\n",
       "      <th>62641</th>\n",
       "      <td>Other</td>\n",
       "      <td>Software Engineer</td>\n",
       "      <td>200000</td>\n",
       "      <td>0.0</td>\n",
       "      <td>0.0</td>\n",
       "      <td>37.368830</td>\n",
       "      <td>-122.036349</td>\n",
       "    </tr>\n",
       "  </tbody>\n",
       "</table>\n",
       "<p>62642 rows × 7 columns</p>\n",
       "</div>"
      ],
      "text/plain": [
       "          company                         title  totalyearlycompensation  \\\n",
       "0          Oracle               Product Manager                   127000   \n",
       "1           Other             Software Engineer                   100000   \n",
       "2          Amazon               Product Manager                   310000   \n",
       "3           Apple  Software Engineering Manager                   372000   \n",
       "4       Microsoft             Software Engineer                   157000   \n",
       "...           ...                           ...                      ...   \n",
       "62637      Google             Software Engineer                   327000   \n",
       "62638   Microsoft             Software Engineer                   237000   \n",
       "62639       Other             Software Engineer                   220000   \n",
       "62640  Salesforce             Software Engineer                   280000   \n",
       "62641       Other             Software Engineer                   200000   \n",
       "\n",
       "       yearsofexperience  yearsatcompany   latitude   longitude  \n",
       "0                    1.5             1.5  37.486324 -122.232523  \n",
       "1                    5.0             3.0  37.779026 -122.419906  \n",
       "2                    8.0             0.0  47.603832 -122.330062  \n",
       "3                    7.0             5.0  37.368830 -122.036349  \n",
       "4                    5.0             3.0  37.389389 -122.083210  \n",
       "...                  ...             ...        ...         ...  \n",
       "62637               10.0             1.0  47.603832 -122.330062  \n",
       "62638                2.0             2.0  47.669414 -122.123877  \n",
       "62639               14.0            12.0  47.603832 -122.330062  \n",
       "62640                8.0             4.0  37.779026 -122.419906  \n",
       "62641                0.0             0.0  37.368830 -122.036349  \n",
       "\n",
       "[62642 rows x 7 columns]"
      ]
     },
     "execution_count": 54,
     "metadata": {},
     "output_type": "execute_result"
    }
   ],
   "source": [
    "reduced_df\n"
   ]
  },
  {
   "cell_type": "code",
   "execution_count": 55,
   "id": "b909f058",
   "metadata": {
    "colab": {
     "base_uri": "https://localhost:8080/",
     "height": 317
    },
    "id": "b909f058",
    "outputId": "a297cd2f-ddd7-4dfe-9257-7878842950a9"
   },
   "outputs": [
    {
     "data": {
      "text/html": [
       "<div>\n",
       "<style scoped>\n",
       "    .dataframe tbody tr th:only-of-type {\n",
       "        vertical-align: middle;\n",
       "    }\n",
       "\n",
       "    .dataframe tbody tr th {\n",
       "        vertical-align: top;\n",
       "    }\n",
       "\n",
       "    .dataframe thead th {\n",
       "        text-align: right;\n",
       "    }\n",
       "</style>\n",
       "<table border=\"1\" class=\"dataframe\">\n",
       "  <thead>\n",
       "    <tr style=\"text-align: right;\">\n",
       "      <th></th>\n",
       "      <th>totalyearlycompensation</th>\n",
       "      <th>yearsofexperience</th>\n",
       "      <th>yearsatcompany</th>\n",
       "      <th>latitude</th>\n",
       "      <th>longitude</th>\n",
       "      <th>company_Amazon</th>\n",
       "      <th>company_Apple</th>\n",
       "      <th>company_Bloomberg</th>\n",
       "      <th>company_Capital One</th>\n",
       "      <th>company_Cisco</th>\n",
       "      <th>...</th>\n",
       "      <th>title_Marketing</th>\n",
       "      <th>title_Mechanical Engineer</th>\n",
       "      <th>title_Product Designer</th>\n",
       "      <th>title_Product Manager</th>\n",
       "      <th>title_Recruiter</th>\n",
       "      <th>title_Sales</th>\n",
       "      <th>title_Software Engineer</th>\n",
       "      <th>title_Software Engineering Manager</th>\n",
       "      <th>title_Solution Architect</th>\n",
       "      <th>title_Technical Program Manager</th>\n",
       "    </tr>\n",
       "  </thead>\n",
       "  <tbody>\n",
       "    <tr>\n",
       "      <th>0</th>\n",
       "      <td>127000</td>\n",
       "      <td>1.5</td>\n",
       "      <td>1.5</td>\n",
       "      <td>37.486324</td>\n",
       "      <td>-122.232523</td>\n",
       "      <td>0</td>\n",
       "      <td>0</td>\n",
       "      <td>0</td>\n",
       "      <td>0</td>\n",
       "      <td>0</td>\n",
       "      <td>...</td>\n",
       "      <td>0</td>\n",
       "      <td>0</td>\n",
       "      <td>0</td>\n",
       "      <td>1</td>\n",
       "      <td>0</td>\n",
       "      <td>0</td>\n",
       "      <td>0</td>\n",
       "      <td>0</td>\n",
       "      <td>0</td>\n",
       "      <td>0</td>\n",
       "    </tr>\n",
       "    <tr>\n",
       "      <th>1</th>\n",
       "      <td>100000</td>\n",
       "      <td>5.0</td>\n",
       "      <td>3.0</td>\n",
       "      <td>37.779026</td>\n",
       "      <td>-122.419906</td>\n",
       "      <td>0</td>\n",
       "      <td>0</td>\n",
       "      <td>0</td>\n",
       "      <td>0</td>\n",
       "      <td>0</td>\n",
       "      <td>...</td>\n",
       "      <td>0</td>\n",
       "      <td>0</td>\n",
       "      <td>0</td>\n",
       "      <td>0</td>\n",
       "      <td>0</td>\n",
       "      <td>0</td>\n",
       "      <td>1</td>\n",
       "      <td>0</td>\n",
       "      <td>0</td>\n",
       "      <td>0</td>\n",
       "    </tr>\n",
       "    <tr>\n",
       "      <th>2</th>\n",
       "      <td>310000</td>\n",
       "      <td>8.0</td>\n",
       "      <td>0.0</td>\n",
       "      <td>47.603832</td>\n",
       "      <td>-122.330062</td>\n",
       "      <td>1</td>\n",
       "      <td>0</td>\n",
       "      <td>0</td>\n",
       "      <td>0</td>\n",
       "      <td>0</td>\n",
       "      <td>...</td>\n",
       "      <td>0</td>\n",
       "      <td>0</td>\n",
       "      <td>0</td>\n",
       "      <td>1</td>\n",
       "      <td>0</td>\n",
       "      <td>0</td>\n",
       "      <td>0</td>\n",
       "      <td>0</td>\n",
       "      <td>0</td>\n",
       "      <td>0</td>\n",
       "    </tr>\n",
       "    <tr>\n",
       "      <th>3</th>\n",
       "      <td>372000</td>\n",
       "      <td>7.0</td>\n",
       "      <td>5.0</td>\n",
       "      <td>37.368830</td>\n",
       "      <td>-122.036349</td>\n",
       "      <td>0</td>\n",
       "      <td>1</td>\n",
       "      <td>0</td>\n",
       "      <td>0</td>\n",
       "      <td>0</td>\n",
       "      <td>...</td>\n",
       "      <td>0</td>\n",
       "      <td>0</td>\n",
       "      <td>0</td>\n",
       "      <td>0</td>\n",
       "      <td>0</td>\n",
       "      <td>0</td>\n",
       "      <td>0</td>\n",
       "      <td>1</td>\n",
       "      <td>0</td>\n",
       "      <td>0</td>\n",
       "    </tr>\n",
       "    <tr>\n",
       "      <th>4</th>\n",
       "      <td>157000</td>\n",
       "      <td>5.0</td>\n",
       "      <td>3.0</td>\n",
       "      <td>37.389389</td>\n",
       "      <td>-122.083210</td>\n",
       "      <td>0</td>\n",
       "      <td>0</td>\n",
       "      <td>0</td>\n",
       "      <td>0</td>\n",
       "      <td>0</td>\n",
       "      <td>...</td>\n",
       "      <td>0</td>\n",
       "      <td>0</td>\n",
       "      <td>0</td>\n",
       "      <td>0</td>\n",
       "      <td>0</td>\n",
       "      <td>0</td>\n",
       "      <td>1</td>\n",
       "      <td>0</td>\n",
       "      <td>0</td>\n",
       "      <td>0</td>\n",
       "    </tr>\n",
       "  </tbody>\n",
       "</table>\n",
       "<p>5 rows × 40 columns</p>\n",
       "</div>"
      ],
      "text/plain": [
       "   totalyearlycompensation  yearsofexperience  yearsatcompany   latitude  \\\n",
       "0                   127000                1.5             1.5  37.486324   \n",
       "1                   100000                5.0             3.0  37.779026   \n",
       "2                   310000                8.0             0.0  47.603832   \n",
       "3                   372000                7.0             5.0  37.368830   \n",
       "4                   157000                5.0             3.0  37.389389   \n",
       "\n",
       "    longitude  company_Amazon  company_Apple  company_Bloomberg  \\\n",
       "0 -122.232523               0              0                  0   \n",
       "1 -122.419906               0              0                  0   \n",
       "2 -122.330062               1              0                  0   \n",
       "3 -122.036349               0              1                  0   \n",
       "4 -122.083210               0              0                  0   \n",
       "\n",
       "   company_Capital One  company_Cisco  ...  title_Marketing  \\\n",
       "0                    0              0  ...                0   \n",
       "1                    0              0  ...                0   \n",
       "2                    0              0  ...                0   \n",
       "3                    0              0  ...                0   \n",
       "4                    0              0  ...                0   \n",
       "\n",
       "   title_Mechanical Engineer  title_Product Designer  title_Product Manager  \\\n",
       "0                          0                       0                      1   \n",
       "1                          0                       0                      0   \n",
       "2                          0                       0                      1   \n",
       "3                          0                       0                      0   \n",
       "4                          0                       0                      0   \n",
       "\n",
       "   title_Recruiter  title_Sales  title_Software Engineer  \\\n",
       "0                0            0                        0   \n",
       "1                0            0                        1   \n",
       "2                0            0                        0   \n",
       "3                0            0                        0   \n",
       "4                0            0                        1   \n",
       "\n",
       "   title_Software Engineering Manager  title_Solution Architect  \\\n",
       "0                                   0                         0   \n",
       "1                                   0                         0   \n",
       "2                                   0                         0   \n",
       "3                                   1                         0   \n",
       "4                                   0                         0   \n",
       "\n",
       "   title_Technical Program Manager  \n",
       "0                                0  \n",
       "1                                0  \n",
       "2                                0  \n",
       "3                                0  \n",
       "4                                0  \n",
       "\n",
       "[5 rows x 40 columns]"
      ]
     },
     "execution_count": 55,
     "metadata": {},
     "output_type": "execute_result"
    }
   ],
   "source": [
    "dummies_df = pd.get_dummies(reduced_df)\n",
    "dummies_df.head()"
   ]
  },
  {
   "cell_type": "code",
   "execution_count": 56,
   "id": "0bcf5136",
   "metadata": {
    "id": "0bcf5136"
   },
   "outputs": [],
   "source": [
    "# Split our preprocessed data into our features and target arrays\n",
    "X = dummies_df.drop(columns=[\"totalyearlycompensation\"]).values\n",
    "y = dummies_df[\"totalyearlycompensation\"].values\n",
    "\n",
    "# Split the preprocessed data into a training and testing dataset\n",
    "X_train, X_test, y_train, y_test = train_test_split(X, y, random_state=1)"
   ]
  },
  {
   "cell_type": "code",
   "execution_count": 20,
   "id": "aebd138f",
   "metadata": {},
   "outputs": [],
   "source": []
  },
  {
   "cell_type": "code",
   "execution_count": 33,
   "id": "39c0e6dd",
   "metadata": {},
   "outputs": [],
   "source": [
    "# # Split our preprocessed data into our features and target arrays\n",
    "# X = reduced_df.drop(columns=[\"totalyearlycompensation\"]).values\n",
    "# y = reduced_df[\"totalyearlycompensation\"].values\n",
    "\n",
    "# # Split the preprocessed data into a training and testing dataset\n",
    "# X_train, X_test, y_train, y_test = train_test_split(X, y, random_state=1)"
   ]
  },
  {
   "cell_type": "code",
   "execution_count": 57,
   "id": "56cb19a3",
   "metadata": {},
   "outputs": [],
   "source": [
    "# Create a StandardScaler instances\n",
    "scaler = StandardScaler()\n",
    "\n",
    "# Fit the StandardScaler\n",
    "X_scaler = scaler.fit(X_train)\n",
    "\n",
    "# Scale the data\n",
    "X_train_scaled = X_scaler.transform(X_train)\n",
    "X_test_scaled = X_scaler.transform(X_test)"
   ]
  },
  {
   "cell_type": "code",
   "execution_count": 58,
   "id": "08001678",
   "metadata": {
    "id": "08001678",
    "scrolled": true
   },
   "outputs": [
    {
     "data": {
      "text/plain": [
       "(62642, 39)"
      ]
     },
     "execution_count": 58,
     "metadata": {},
     "output_type": "execute_result"
    }
   ],
   "source": [
    "X.shape"
   ]
  },
  {
   "cell_type": "code",
   "execution_count": 59,
   "id": "d543feba",
   "metadata": {},
   "outputs": [],
   "source": [
    "#linear regression\n",
    "# Import required libraries\n",
    "import numpy as np\n",
    "import pandas as pd\n",
    "import hvplot.pandas\n",
    "from pathlib import Path\n",
    "from sklearn.linear_model import LinearRegression"
   ]
  },
  {
   "cell_type": "code",
   "execution_count": 15,
   "id": "b33a948c",
   "metadata": {},
   "outputs": [],
   "source": [
    "#model = LinearRegression()"
   ]
  },
  {
   "cell_type": "code",
   "execution_count": null,
   "id": "cd452f38",
   "metadata": {},
   "outputs": [],
   "source": [
    "#y = dummies_df[\"totalyearlycompensation\"].values\n"
   ]
  },
  {
   "cell_type": "code",
   "execution_count": 60,
   "id": "c5b5874c",
   "metadata": {},
   "outputs": [],
   "source": [
    "#random forest\n",
    "import pandas as pd\n",
    "from pathlib import Path\n",
    "from sklearn.ensemble import RandomForestClassifier\n",
    "from sklearn.ensemble import RandomForestRegressor\n",
    "from sklearn.multioutput import MultiOutputRegressor\n",
    "from sklearn.preprocessing import StandardScaler\n",
    "from sklearn.model_selection import train_test_split\n",
    "from sklearn.metrics import confusion_matrix, accuracy_score, classification_report\n",
    "%matplotlib inline"
   ]
  },
  {
   "cell_type": "code",
   "execution_count": 61,
   "id": "8efc6afa",
   "metadata": {},
   "outputs": [],
   "source": [
    "rf_model = RandomForestRegressor(n_estimators=1000, random_state=78)"
   ]
  },
  {
   "cell_type": "code",
   "execution_count": 62,
   "id": "3377be14",
   "metadata": {},
   "outputs": [],
   "source": [
    "rf_model = rf_model.fit(X_train_scaled, y_train)"
   ]
  },
  {
   "cell_type": "code",
   "execution_count": 63,
   "id": "d9dd78d3",
   "metadata": {},
   "outputs": [],
   "source": [
    "predictions = rf_model.predict(X_test_scaled)"
   ]
  },
  {
   "cell_type": "code",
   "execution_count": 36,
   "id": "3a38b057",
   "metadata": {
    "scrolled": false
   },
   "outputs": [
    {
     "data": {
      "text/plain": [
       "array([340845.62466422, 198543.30842788, 100942.55048343, ...,\n",
       "       343942.89365079, 158907.15948986, 201270.2384968 ])"
      ]
     },
     "execution_count": 36,
     "metadata": {},
     "output_type": "execute_result"
    }
   ],
   "source": [
    "predictions\n"
   ]
  },
  {
   "cell_type": "code",
   "execution_count": 39,
   "id": "30fdc608",
   "metadata": {},
   "outputs": [
    {
     "data": {
      "text/html": [
       "<div>\n",
       "<style scoped>\n",
       "    .dataframe tbody tr th:only-of-type {\n",
       "        vertical-align: middle;\n",
       "    }\n",
       "\n",
       "    .dataframe tbody tr th {\n",
       "        vertical-align: top;\n",
       "    }\n",
       "\n",
       "    .dataframe thead th {\n",
       "        text-align: right;\n",
       "    }\n",
       "</style>\n",
       "<table border=\"1\" class=\"dataframe\">\n",
       "  <thead>\n",
       "    <tr style=\"text-align: right;\">\n",
       "      <th></th>\n",
       "      <th>0</th>\n",
       "    </tr>\n",
       "  </thead>\n",
       "  <tbody>\n",
       "    <tr>\n",
       "      <th>220000</th>\n",
       "      <td>340845.624664</td>\n",
       "    </tr>\n",
       "    <tr>\n",
       "      <th>146000</th>\n",
       "      <td>198543.308428</td>\n",
       "    </tr>\n",
       "    <tr>\n",
       "      <th>114000</th>\n",
       "      <td>100942.550483</td>\n",
       "    </tr>\n",
       "    <tr>\n",
       "      <th>200000</th>\n",
       "      <td>385002.619447</td>\n",
       "    </tr>\n",
       "    <tr>\n",
       "      <th>206000</th>\n",
       "      <td>273411.963343</td>\n",
       "    </tr>\n",
       "    <tr>\n",
       "      <th>...</th>\n",
       "      <td>...</td>\n",
       "    </tr>\n",
       "    <tr>\n",
       "      <th>113000</th>\n",
       "      <td>198543.308428</td>\n",
       "    </tr>\n",
       "    <tr>\n",
       "      <th>168000</th>\n",
       "      <td>178423.488918</td>\n",
       "    </tr>\n",
       "    <tr>\n",
       "      <th>275000</th>\n",
       "      <td>343942.893651</td>\n",
       "    </tr>\n",
       "    <tr>\n",
       "      <th>220000</th>\n",
       "      <td>158907.159490</td>\n",
       "    </tr>\n",
       "    <tr>\n",
       "      <th>93000</th>\n",
       "      <td>201270.238497</td>\n",
       "    </tr>\n",
       "  </tbody>\n",
       "</table>\n",
       "<p>15661 rows × 1 columns</p>\n",
       "</div>"
      ],
      "text/plain": [
       "                    0\n",
       "220000  340845.624664\n",
       "146000  198543.308428\n",
       "114000  100942.550483\n",
       "200000  385002.619447\n",
       "206000  273411.963343\n",
       "...               ...\n",
       "113000  198543.308428\n",
       "168000  178423.488918\n",
       "275000  343942.893651\n",
       "220000  158907.159490\n",
       "93000   201270.238497\n",
       "\n",
       "[15661 rows x 1 columns]"
      ]
     },
     "execution_count": 39,
     "metadata": {},
     "output_type": "execute_result"
    }
   ],
   "source": [
    "df=pd.DataFrame( predictions, y_test)\n",
    "df"
   ]
  },
  {
   "cell_type": "code",
   "execution_count": null,
   "id": "6656edcb",
   "metadata": {},
   "outputs": [],
   "source": [
    "cm = confusion_matrix(y_test, predictions)\n",
    "cm_df = pd.DataFrame(\n",
    "    cm, index=[\"Actual 0\", \"Actual 1\"], columns=[\"Predicted 0\", \"Predicted 1\"]\n",
    ")\n",
    "\n",
    "# Calculating the accuracy score\n",
    "acc_score = accuracy_score(y_test, predictions)"
   ]
  },
  {
   "cell_type": "code",
   "execution_count": 64,
   "id": "8c5bfdda",
   "metadata": {},
   "outputs": [
    {
     "data": {
      "text/plain": [
       "0.46375747115252375"
      ]
     },
     "execution_count": 64,
     "metadata": {},
     "output_type": "execute_result"
    }
   ],
   "source": [
    "acc_score = rf_model.score(X_test_scaled, y_test)\n",
    "acc_score"
   ]
  },
  {
   "cell_type": "code",
   "execution_count": null,
   "id": "bb51adea",
   "metadata": {},
   "outputs": [],
   "source": [
    "# Displaying results\n",
    "print(\"Confusion Matrix\")\n",
    "display(cm_df)\n",
    "print(f\"Accuracy Score : {acc_score}\")\n",
    "print(\"Classification Report\")\n",
    "print(classification_report(y_test, predictions))"
   ]
  },
  {
   "cell_type": "code",
   "execution_count": null,
   "id": "aef272e3",
   "metadata": {},
   "outputs": [],
   "source": []
  },
  {
   "cell_type": "code",
   "execution_count": null,
   "id": "80b10dc1",
   "metadata": {},
   "outputs": [],
   "source": []
  },
  {
   "cell_type": "code",
   "execution_count": null,
   "id": "f69cce09",
   "metadata": {},
   "outputs": [],
   "source": []
  },
  {
   "cell_type": "code",
   "execution_count": null,
   "id": "b9b7c717",
   "metadata": {},
   "outputs": [],
   "source": []
  },
  {
   "cell_type": "code",
   "execution_count": null,
   "id": "78c7340b",
   "metadata": {},
   "outputs": [],
   "source": []
  },
  {
   "cell_type": "code",
   "execution_count": null,
   "id": "3248000d",
   "metadata": {},
   "outputs": [],
   "source": [
    "#deep learning"
   ]
  },
  {
   "cell_type": "code",
   "execution_count": 52,
   "id": "9107b5f7",
   "metadata": {
    "id": "9107b5f7"
   },
   "outputs": [],
   "source": []
  },
  {
   "cell_type": "code",
   "execution_count": 53,
   "id": "ec8fcf4c",
   "metadata": {
    "id": "ec8fcf4c"
   },
   "outputs": [
    {
     "name": "stdout",
     "output_type": "stream",
     "text": [
      "Model: \"sequential\"\n",
      "_________________________________________________________________\n",
      " Layer (type)                Output Shape              Param #   \n",
      "=================================================================\n",
      " lstm (LSTM)                 (None, 37, 80)            26240     \n",
      "                                                                 \n",
      " lstm_1 (LSTM)               (None, 37, 30)            13320     \n",
      "                                                                 \n",
      " dense (Dense)               (None, 37, 1)             31        \n",
      "                                                                 \n",
      "=================================================================\n",
      "Total params: 39,591\n",
      "Trainable params: 39,591\n",
      "Non-trainable params: 0\n",
      "_________________________________________________________________\n"
     ]
    }
   ],
   "source": [
    "\n",
    "#https://www.simplilearn.com/tutorials/machine-learning-tutorial/stock-price-prediction-using-machine-learning\n",
    "# Define the model - deep neural net, i.e., the number of input features and hidden nodes for each layer.\n",
    "number_input_features = (len(dummies_df.columns)-1)\n",
    "hidden_nodes_layer1 =  50\n",
    "hidden_nodes_layer2 = 10\n",
    "\n",
    "nn = tf.keras.models.Sequential()\n",
    "\n",
    "# First hidden layer\n",
    "nn.add(tf.keras.layers.LSTM(units=80, return_sequences=True, input_shape=(X_train.shape[1],1)))\n",
    "\n",
    "# Second hidden layer\n",
    "nn.add(tf.keras.layers.LSTM(units=30, return_sequences=True))\n",
    "\n",
    "# Output layer\n",
    "nn.add(tf.keras.layers.Dense(units=1))\n",
    "\n",
    "\n",
    "# Check the structure of the model\n",
    "nn.summary()"
   ]
  },
  {
   "cell_type": "code",
   "execution_count": 56,
   "id": "162bd15a",
   "metadata": {
    "id": "162bd15a"
   },
   "outputs": [],
   "source": [
    "# Compile the model\n",
    "nn.compile(loss=\"binary_crossentropy\", optimizer=\"adam\", metrics=[\"accuracy\"])"
   ]
  },
  {
   "cell_type": "code",
   "execution_count": null,
   "id": "2e70a979",
   "metadata": {
    "id": "2e70a979"
   },
   "outputs": [
    {
     "name": "stdout",
     "output_type": "stream",
     "text": [
      "Epoch 1/100\n",
      "1469/1469 [==============================] - 102s 63ms/step - loss: -3294135.2500 - accuracy: 0.0000e+00\n",
      "Epoch 2/100\n",
      "1469/1469 [==============================] - 93s 63ms/step - loss: -3294138.2500 - accuracy: 0.0000e+00\n",
      "Epoch 3/100\n",
      "1469/1469 [==============================] - 92s 63ms/step - loss: -3294136.0000 - accuracy: 0.0000e+00\n",
      "Epoch 4/100\n",
      "1469/1469 [==============================] - 93s 63ms/step - loss: -3294141.7500 - accuracy: 0.0000e+00\n",
      "Epoch 5/100\n",
      "1469/1469 [==============================] - 94s 64ms/step - loss: -3294133.2500 - accuracy: 0.0000e+00\n",
      "Epoch 6/100\n",
      "1469/1469 [==============================] - 94s 64ms/step - loss: -3294137.7500 - accuracy: 0.0000e+00\n",
      "Epoch 7/100\n",
      " 240/1469 [===>..........................] - ETA: 1:16 - loss: -3308527.0000 - accuracy: 0.0000e+00"
     ]
    }
   ],
   "source": [
    "# Train the model\n",
    "fit_model = nn.fit(X_train_scaled, y_train, epochs=100)"
   ]
  },
  {
   "cell_type": "code",
   "execution_count": null,
   "id": "4ca79652",
   "metadata": {
    "id": "4ca79652"
   },
   "outputs": [],
   "source": [
    "model_loss, model_accuracy = nn.evaluate(X_test_scaled,y_test,verbose=2)\n",
    "print(f\"Loss: {model_loss}, Accuracy: {model_accuracy}\")"
   ]
  },
  {
   "cell_type": "code",
   "execution_count": null,
   "id": "d8c849d7",
   "metadata": {
    "id": "d8c849d7"
   },
   "outputs": [],
   "source": []
  }
 ],
 "metadata": {
  "colab": {
   "provenance": []
  },
  "kernelspec": {
   "display_name": "PythonData",
   "language": "python",
   "name": "pythondata"
  },
  "language_info": {
   "codemirror_mode": {
    "name": "ipython",
    "version": 3
   },
   "file_extension": ".py",
   "mimetype": "text/x-python",
   "name": "python",
   "nbconvert_exporter": "python",
   "pygments_lexer": "ipython3",
   "version": "3.7.15"
  }
 },
 "nbformat": 4,
 "nbformat_minor": 5
}
